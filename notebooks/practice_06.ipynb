{
 "cells": [
  {
   "cell_type": "markdown",
   "id": "aebc9dc0",
   "metadata": {},
   "source": [
    "# Python for everyone -- 06 Loops\n",
    "## Practice exercises"
   ]
  },
  {
   "cell_type": "markdown",
   "id": "6057cfd4",
   "metadata": {},
   "source": [
    "#### 🔴 01 `for` loop\n",
    "\n",
    "Write code that prints out all words in the following list."
   ]
  },
  {
   "cell_type": "code",
   "execution_count": null,
   "id": "1025f2a6",
   "metadata": {},
   "outputs": [],
   "source": [
    "words = [\"apple\", \"worm\", \"gummy\", \"boo!\"]\n",
    "\n"
   ]
  },
  {
   "cell_type": "markdown",
   "id": "af5c920f",
   "metadata": {},
   "source": [
    "<details><summary><u>Solution.</u></summary>\n",
    "<p>\n",
    "    \n",
    "```python   \n",
    "for w in words:\n",
    "    print(w)\n",
    "```\n",
    "    \n",
    "</p>\n",
    "</details>"
   ]
  },
  {
   "cell_type": "markdown",
   "id": "7df2f396",
   "metadata": {},
   "source": [
    "#### 🔴 02 `for` loop\n",
    "\n",
    "Write code that prints out all characters in the following string."
   ]
  },
  {
   "cell_type": "code",
   "execution_count": null,
   "id": "8d3cc4a6",
   "metadata": {},
   "outputs": [],
   "source": [
    "s = \"awe-inspiring hoodoos\"\n"
   ]
  },
  {
   "cell_type": "markdown",
   "id": "d0b40056",
   "metadata": {},
   "source": [
    "<details><summary><u>Solution.</u></summary>\n",
    "<p>\n",
    "    \n",
    "```python   \n",
    "for c in s:\n",
    "    print(c)\n",
    "```\n",
    "    \n",
    "</p>\n",
    "</details>"
   ]
  },
  {
   "cell_type": "markdown",
   "id": "f06d0326",
   "metadata": {},
   "source": [
    "#### 🔴 03 Upgraded echo\n",
    "\n",
    "In a previous class, we wrote a function `echo` that took a string `s` as an argument and printed out `s` twice:"
   ]
  },
  {
   "cell_type": "code",
   "execution_count": null,
   "id": "1f721985",
   "metadata": {},
   "outputs": [],
   "source": [
    "def echo(s):\n",
    "    print(s)\n",
    "    print(s)\n",
    "    \n",
    "    return # the function does not return anything"
   ]
  },
  {
   "cell_type": "markdown",
   "id": "d12f6715",
   "metadata": {},
   "source": [
    "Write a new version of `echo()` that takes a string `s` and a number `n` as an argument and prints out `s` `n` times."
   ]
  },
  {
   "cell_type": "code",
   "execution_count": null,
   "id": "2199e578",
   "metadata": {},
   "outputs": [],
   "source": []
  },
  {
   "cell_type": "markdown",
   "id": "856f3ba2",
   "metadata": {},
   "source": [
    "<details><summary><u>Solution.</u></summary>\n",
    "<p>\n",
    "    \n",
    "```python   \n",
    "def echo(s, n):\n",
    "    for i in range(n):\n",
    "        print(s)\n",
    "    \n",
    "    return\n",
    "\n",
    "echo(\"Szasztok nyusztok!\", 5)\n",
    "```\n",
    "    \n",
    "</p>\n",
    "</details>"
   ]
  },
  {
   "cell_type": "markdown",
   "id": "13966cbf",
   "metadata": {},
   "source": [
    "#### 🔴 04 List building\n",
    "\n",
    "Starting from a list of words, the code below creates a new list containing the length of the words. "
   ]
  },
  {
   "cell_type": "code",
   "execution_count": null,
   "id": "b060d5d9",
   "metadata": {},
   "outputs": [],
   "source": [
    "words = [\"cocabura\", \"'i'iwi\", \"wryneck\", \"bateleur\"]\n",
    "\n",
    "lengths = []\n",
    "lengths.append(len(words[0]))\n",
    "lengths.append(len(words[1]))\n",
    "lengths.append(len(words[2]))\n",
    "lengths.append(len(words[3]))\n",
    "lengths"
   ]
  },
  {
   "cell_type": "markdown",
   "id": "5b0b2e5f",
   "metadata": {},
   "source": [
    "Write code that does the same job using a `for` loop."
   ]
  },
  {
   "cell_type": "code",
   "execution_count": null,
   "id": "6d0c3dca",
   "metadata": {},
   "outputs": [],
   "source": []
  },
  {
   "cell_type": "markdown",
   "id": "23f27067",
   "metadata": {},
   "source": [
    "<details><summary><u>Solution.</u></summary>\n",
    "<p>\n",
    "    \n",
    "```python   \n",
    "lengths=[]\n",
    "for w in words:\n",
    "    lengths.append(len(w))\n",
    "lengths\n",
    "```\n",
    "    \n",
    "</p>\n",
    "</details>"
   ]
  },
  {
   "cell_type": "markdown",
   "id": "edd1d10a",
   "metadata": {},
   "source": [
    "#### 🔴 05 Fix it\n",
    "\n",
    "The following code aims to collect all the negative numbers into a new list. I.e., it should produce a list `[-4, -6, -8]`. However, the code does not seem to stop running. Can you fix it?"
   ]
  },
  {
   "cell_type": "code",
   "execution_count": null,
   "id": "8ad94b84",
   "metadata": {},
   "outputs": [],
   "source": [
    "nums = [22, 23, -4, 5, -6, -8, 10]\n",
    "\n",
    "negative_nums = []\n",
    "\n",
    "for n in nums:\n",
    "    if n>0:\n",
    "        nums.append(n)\n",
    "        \n",
    "negative_nums"
   ]
  },
  {
   "cell_type": "markdown",
   "id": "0f2c2a2d",
   "metadata": {},
   "source": [
    "<details><summary><u>Solution.</u></summary>\n",
    "<p>\n",
    "    \n",
    "We are appending to the old list `nums`, so we are never reaching the end.\n",
    "    \n",
    "Also, we are adding positive numbers instead of negative.\n",
    "    \n",
    "The fixed version:\n",
    "```python   \n",
    "negative_nums = []\n",
    "\n",
    "for n in nums:\n",
    "    if n<0: # n>0 -> n<0, to get negative numbers \n",
    "        negative_nums.append(n) # nums -> negative_nums, so we append to the new list\n",
    "        \n",
    "negative_nums\n",
    "```\n",
    "    \n",
    "</p>\n",
    "</details>"
   ]
  },
  {
   "cell_type": "markdown",
   "id": "5f0ff8eb",
   "metadata": {},
   "source": [
    "#### 🔴 06 Split\n",
    "\n",
    "Strings have a method called `split()`, it splits up the string into a list of strings at each whitespace character. For example:"
   ]
  },
  {
   "cell_type": "code",
   "execution_count": null,
   "id": "2a827732",
   "metadata": {},
   "outputs": [],
   "source": [
    "sentence = \"The apple is a fruit\"\n",
    "list_of_words = sentence.split()\n",
    "list_of_words"
   ]
  },
  {
   "cell_type": "markdown",
   "id": "8ba7f894",
   "metadata": {},
   "source": [
    "Write code that iterates over all words in the following sentence and prints out how many characters are each."
   ]
  },
  {
   "cell_type": "code",
   "execution_count": null,
   "id": "174f942a",
   "metadata": {},
   "outputs": [],
   "source": [
    "sentence = \"I went to CEU and I learned some Python\"\n",
    "\n"
   ]
  },
  {
   "cell_type": "markdown",
   "id": "52a6c53e",
   "metadata": {},
   "source": [
    "<details><summary><u>Solution.</u></summary>\n",
    "<p>\n",
    "    \n",
    "```python\n",
    "list_of_words = sentence.split()\n",
    "for w in list_of_words:\n",
    "    print(w, len(w))\n",
    "    \n",
    "# or\n",
    "    \n",
    "for w in sentence.split():\n",
    "    print(w, len(w))\n",
    "```\n",
    "    \n",
    "</p>\n",
    "</details>"
   ]
  },
  {
   "cell_type": "markdown",
   "id": "86f646e3",
   "metadata": {},
   "source": [
    "#### 🔴 07 Filter\n",
    "\n",
    "Iterate over the following list of sentences and print out the ones that mention Vera.\n",
    "\n",
    "<br>\n",
    "<details><summary><u>Hint.</u></summary>\n",
    "<p>\n",
    "    \n",
    "To check if a string `s` contains the substring `\"Vera\"`, use `\"if Vera\" in s:`</p>\n",
    "</details>"
   ]
  },
  {
   "cell_type": "code",
   "execution_count": null,
   "id": "b8eabfa1",
   "metadata": {},
   "outputs": [],
   "source": [
    "sentences = [\n",
    "    \"Vera likes armadillos.\",\n",
    "    \"Someone is at the door, could it be Zsofi?\",\n",
    "    \"I once ate a pound of gummy bears.\",\n",
    "    \"It is raining, so Vera put on a jacket.\",\n",
    "    \"Boo!\"]\n",
    "\n",
    "\n"
   ]
  },
  {
   "cell_type": "markdown",
   "id": "8ccbe06e",
   "metadata": {},
   "source": [
    "<details><summary><u>Solution.</u></summary>\n",
    "<p>\n",
    "    \n",
    "```python   \n",
    "for s in sentences:\n",
    "    if \"Vera\" in s:\n",
    "        print(s)\n",
    "```\n",
    "    \n",
    "</p>\n",
    "</details>"
   ]
  },
  {
   "cell_type": "markdown",
   "id": "ea1831d6",
   "metadata": {},
   "source": [
    "#### 🔴 07 First letters\n",
    "\n",
    "You can add extend a string with a character using the following line of code"
   ]
  },
  {
   "cell_type": "code",
   "execution_count": null,
   "id": "3c317ed3",
   "metadata": {},
   "outputs": [],
   "source": [
    "s = \"hello\"\n",
    "s = s + '!'\n",
    "print(s)"
   ]
  },
  {
   "cell_type": "markdown",
   "id": "650f8372",
   "metadata": {},
   "source": [
    "The above code creates a new string by concatenating `s` and `\"!\"`, then this new string is stored in `s` overwriting its previous contents.\n",
    "\n",
    "Write code that iterates over a list of words and creates a new string by collecting the first letters of each word. For example: `[\"Apple\", \"Banana\", \"Cantaloupe\"]` should give `\"ABC\"`"
   ]
  },
  {
   "cell_type": "code",
   "execution_count": null,
   "id": "a2df5152",
   "metadata": {},
   "outputs": [],
   "source": [
    "words = [\"apple\", \"worm\", \"gummy\", \"boo!\"]\n",
    "\n"
   ]
  },
  {
   "cell_type": "markdown",
   "id": "53ffc443",
   "metadata": {},
   "source": [
    "<details><summary><u>Solution.</u></summary>\n",
    "<p>\n",
    "    \n",
    "```python   \n",
    "s = \"\"\n",
    "for w in words:\n",
    "    s = s + w[0]\n",
    "print(s)\n",
    "```\n",
    "    \n",
    "</p>\n",
    "</details>"
   ]
  },
  {
   "cell_type": "markdown",
   "id": "f7a76cad",
   "metadata": {},
   "source": [
    "#### 🔴 07 Max even number\n",
    "\n",
    "In class, we wrote the following code to find the maximum value in a list"
   ]
  },
  {
   "cell_type": "code",
   "execution_count": null,
   "id": "dfeabfcf",
   "metadata": {},
   "outputs": [],
   "source": [
    "nums = [1, 12, 137, 2, 8, 42]\n",
    "\n",
    "m = nums[0]  # helper variable: I will use this to keep track of the maximum\n",
    "for num in nums: # check all numbers in the list\n",
    "    if num > m: # if number larger than the maximum so far\n",
    "        m=num   # update maximum\n",
    "m\n"
   ]
  },
  {
   "cell_type": "markdown",
   "id": "82a15725",
   "metadata": {},
   "source": [
    "Modify the above code such that it finds the maximum even number.\n",
    "\n",
    "<br>\n",
    "<details><summary><u>Hint.</u></summary>\n",
    "<p>\n",
    "    \n",
    "You can check if a number `num` is even with `num%2==0`.    \n",
    "</p>\n",
    "</details>"
   ]
  },
  {
   "cell_type": "code",
   "execution_count": null,
   "id": "0e1887c0",
   "metadata": {},
   "outputs": [],
   "source": []
  },
  {
   "cell_type": "markdown",
   "id": "d5597527",
   "metadata": {},
   "source": [
    "<details><summary><u>Solution.</u></summary>\n",
    "<p>\n",
    "    \n",
    "```python   \n",
    "m = nums[0]\n",
    "for num in nums:\n",
    "    if num > m and num%2==0:\n",
    "        m=num\n",
    "m\n",
    "```\n",
    "    \n",
    "</p>\n",
    "</details>"
   ]
  },
  {
   "cell_type": "markdown",
   "id": "dfe294ca",
   "metadata": {},
   "source": [
    "#### 🔴 09 Rolling dice\n",
    "\n",
    "The following code simulates a dice roll."
   ]
  },
  {
   "cell_type": "code",
   "execution_count": null,
   "id": "f22ee597",
   "metadata": {},
   "outputs": [],
   "source": [
    "import random # import random module\n",
    "\n",
    "roll = random.randint(1,6) # random integer between 1 and 6 (6 included)\n",
    "print(f\"You rolled {roll}.\")"
   ]
  },
  {
   "cell_type": "markdown",
   "id": "7a9d5b70",
   "metadata": {},
   "source": [
    "You are playing [Dungeons and Dragons](https://en.wikipedia.org/wiki/Dungeons_%26_Dragons) (3rd edition) and you found a magical sword called the Rapier of Big Boo-boos, which deals an incredible 5d8 damage.\n",
    "\n",
    "5d8 means that you roll 5 eight-sided dice and sum up the numbers, like this:\n",
    "https://www.google.com/search?q=roll+5d8\n",
    "\n",
    "Write function `roll_5d8` that simulates this dice roll using a `for` loop. The function should return the value of the roll."
   ]
  },
  {
   "cell_type": "code",
   "execution_count": null,
   "id": "bf9a1faf",
   "metadata": {},
   "outputs": [],
   "source": []
  },
  {
   "cell_type": "markdown",
   "id": "d840db7b",
   "metadata": {},
   "source": [
    "<details><summary><u>Solution.</u></summary>\n",
    "<p>\n",
    "    \n",
    "```python   \n",
    "def roll_5d8():\n",
    "    total_roll = 0\n",
    "    for i in range(5):\n",
    "        total_roll += random.randint(1,8)\n",
    "        \n",
    "    return total_roll\n",
    "\n",
    "print(f\"You rolled {roll_5d8()}.\")\n",
    "```\n",
    "    \n",
    "</p>\n",
    "</details>"
   ]
  },
  {
   "cell_type": "markdown",
   "id": "06f44ec8",
   "metadata": {},
   "source": [
    "#### 🔴 10 Mean`while` a monster attacks\n",
    "\n",
    "You are continuing your game of DnD, and your character is attacked by dire wolf that has 100 hp (hp=health points). You defend yourself with the Rapier of Big Boo-boos. How many times do you have to strike the dire wolf to defeat it?\n",
    "\n",
    "Each time you hit the dire wolf, it looses 5d8 of its health points. Use a `while` loop to repeatedly attack the dire wolf until the total damage exceeds 100 hps. Use two helper variables to keep track of the total damage and the number of strikes needed.\n",
    "\n",
    "Re-use the code from the previous exercise."
   ]
  },
  {
   "cell_type": "code",
   "execution_count": null,
   "id": "7ec8e664",
   "metadata": {},
   "outputs": [],
   "source": []
  },
  {
   "cell_type": "markdown",
   "id": "7354e73d",
   "metadata": {},
   "source": [
    "<details><summary><u>Solution.</u></summary>\n",
    "<p>\n",
    "    \n",
    "```python   \n",
    "total_damage = 0\n",
    "strikes = 0\n",
    "\n",
    "while total_damage<100:\n",
    "    strikes += 1\n",
    "    total_damage += roll_5d8()\n",
    "\n",
    "print(f\"It took {strikes} strikes to defeat the dire wolf.\")\n",
    "```\n",
    "    \n",
    "</p>\n",
    "</details>"
   ]
  }
 ],
 "metadata": {
  "language_info": {
   "name": "python",
   "pygments_lexer": "ipython3"
  }
 },
 "nbformat": 4,
 "nbformat_minor": 5
}
