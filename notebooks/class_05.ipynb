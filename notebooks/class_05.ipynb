{
 "cells": [
  {
   "cell_type": "markdown",
   "id": "aebc9dc0",
   "metadata": {},
   "source": [
    "# Python for everyone -- 05 Lists"
   ]
  },
  {
   "cell_type": "markdown",
   "id": "d262c40b",
   "metadata": {},
   "source": [
    "## Prelude: using Jupyter notebooks"
   ]
  },
  {
   "cell_type": "markdown",
   "id": "00b0f762",
   "metadata": {},
   "source": [
    "The document that you are reading right now is a Jupyter notebook, in this course we write our code in such notebooks.\n",
    "\n",
    "Jupyter notebooks allow to combine formatted text and executable code side-by-side; therefore you can have your code, explanations and note, its output and its interpretation all in one place. It is often used for data science applications, publishing together with a paper, and for classes.\n",
    "\n",
    "The notebooks are made up of cells, which can be either markdown or code."
   ]
  },
  {
   "cell_type": "markdown",
   "id": "fb1b585f",
   "metadata": {},
   "source": [
    "**Important thing to get used to:**\n",
    "\n",
    "Whatever expression is on the last line of a code cell, it gets printed out."
   ]
  },
  {
   "cell_type": "code",
   "execution_count": null,
   "id": "4f11439f",
   "metadata": {},
   "outputs": [],
   "source": [
    "2 + 3"
   ]
  },
  {
   "cell_type": "markdown",
   "id": "28c2977d",
   "metadata": {},
   "source": [
    "You can do other things before it, only the last line gets printed out automatically:"
   ]
  },
  {
   "cell_type": "code",
   "execution_count": null,
   "id": "8e551c3c",
   "metadata": {},
   "outputs": [],
   "source": [
    "s = \"hello\"\n",
    "new_s = s.capitalize() + \"!\"\n",
    "new_s"
   ]
  },
  {
   "cell_type": "markdown",
   "id": "387fdcb7",
   "metadata": {},
   "source": [
    "You can print out things before the last line using the `print` function."
   ]
  },
  {
   "cell_type": "code",
   "execution_count": null,
   "id": "d21cdb1a",
   "metadata": {},
   "outputs": [],
   "source": [
    "x = 10\n",
    "y = 12\n",
    "print(f\"{x} + {y} = {x+y}\")\n",
    "x-y"
   ]
  },
  {
   "cell_type": "markdown",
   "id": "d5515712",
   "metadata": {},
   "source": [
    "And only expressions that return a value/evaluate to something get printed out."
   ]
  },
  {
   "cell_type": "code",
   "execution_count": null,
   "id": "119e10d6",
   "metadata": {},
   "outputs": [],
   "source": [
    "x = 3.14 "
   ]
  },
  {
   "cell_type": "markdown",
   "id": "405966fc",
   "metadata": {},
   "source": [
    "The above expression changed the variable `x`, but did not return anything.\n",
    "\n",
    "Rule of thumb: whatever you can print out with `print()` gets printed out by the last line too."
   ]
  },
  {
   "cell_type": "code",
   "execution_count": null,
   "id": "b9e9b3b0",
   "metadata": {},
   "outputs": [],
   "source": [
    "print(x)\n",
    "x"
   ]
  },
  {
   "cell_type": "code",
   "execution_count": null,
   "id": "d2b0ac8a",
   "metadata": {},
   "outputs": [],
   "source": [
    "print(x=10)"
   ]
  },
  {
   "cell_type": "markdown",
   "id": "bdbb9c4d",
   "metadata": {},
   "source": [
    "Another important thing:\n",
    "\n",
    "Cells are not guaranteed to be executed in the order that they appear. You run them in whatever order and as many times as you decide. This can have strange effects "
   ]
  },
  {
   "cell_type": "code",
   "execution_count": null,
   "id": "95471d19",
   "metadata": {},
   "outputs": [],
   "source": [
    "print(y)"
   ]
  },
  {
   "cell_type": "code",
   "execution_count": null,
   "id": "f5026ebc",
   "metadata": {},
   "outputs": [],
   "source": [
    "y = 10"
   ]
  },
  {
   "cell_type": "markdown",
   "id": "77806338",
   "metadata": {},
   "source": [
    "You might even end up deleting the line of code that creates the variable `y`, but that does not delete `y` from the internal state of Python."
   ]
  },
  {
   "cell_type": "markdown",
   "id": "95d64c07",
   "metadata": {},
   "source": [
    "You can restart the kernel to start from a clean slate. This deletes all variables and results."
   ]
  },
  {
   "cell_type": "markdown",
   "id": "eee761d6",
   "metadata": {},
   "source": [
    "Two good ideas:\n",
    "* If you are uncertain what a variable contains. Check it out (for example, by printing it out)!\n",
    "* When you are done with a project/homework: restart the kernel and test the code again."
   ]
  },
  {
   "cell_type": "markdown",
   "id": "dcfb1f7a",
   "metadata": {},
   "source": [
    "## Lists"
   ]
  },
  {
   "cell_type": "markdown",
   "id": "3149d6a6",
   "metadata": {},
   "source": [
    "We so far looked at data types that only contained a single value. However, we often have to work with a sample or collection of data points.\n",
    "\n",
    "Python also has container types that can contain multiple objects. The first one we look at are lists.\n",
    "\n",
    "A list of numbers:"
   ]
  },
  {
   "cell_type": "code",
   "execution_count": null,
   "id": "b0d1b22f",
   "metadata": {},
   "outputs": [],
   "source": [
    "l_num = [1, 3, 12, -1]"
   ]
  },
  {
   "cell_type": "markdown",
   "id": "be2fbd94",
   "metadata": {},
   "source": [
    "To define a list: enclosed in square brackets `[...]` list all elements to include separated by a comma.\n",
    "\n",
    "List of strings:"
   ]
  },
  {
   "cell_type": "code",
   "execution_count": null,
   "id": "bda1a788",
   "metadata": {},
   "outputs": [],
   "source": [
    "l_str = ['apple', 'barn', 'hopscotch']"
   ]
  },
  {
   "cell_type": "markdown",
   "id": "19ef89ad",
   "metadata": {},
   "source": [
    "Lists can also contain mixed types:"
   ]
  },
  {
   "cell_type": "code",
   "execution_count": null,
   "id": "492f1911",
   "metadata": {},
   "outputs": [],
   "source": [
    "l_mix = [1, 0.23, \"wow!\"]"
   ]
  },
  {
   "cell_type": "markdown",
   "id": "dc37d44f",
   "metadata": {},
   "source": [
    "## Accessing elements"
   ]
  },
  {
   "cell_type": "markdown",
   "id": "35f9f1a0",
   "metadata": {},
   "source": [
    "We can retrive elelements of a list the same way as we accessed single characters of a string. \n",
    "\n",
    "Accessing a single element of a list:"
   ]
  },
  {
   "cell_type": "code",
   "execution_count": null,
   "id": "2b7213f4",
   "metadata": {},
   "outputs": [],
   "source": [
    "l_mix[0]"
   ]
  },
  {
   "cell_type": "markdown",
   "id": "2a95690e",
   "metadata": {},
   "source": [
    "Same way as for strings: indexing starts from **0**!"
   ]
  },
  {
   "cell_type": "code",
   "execution_count": null,
   "id": "e50c4b0f",
   "metadata": {},
   "outputs": [],
   "source": [
    "l_mix[1]"
   ]
  },
  {
   "cell_type": "markdown",
   "id": "dd736ba1",
   "metadata": {},
   "source": [
    "You can access the last element with `-1`:"
   ]
  },
  {
   "cell_type": "code",
   "execution_count": null,
   "id": "cf935ed3",
   "metadata": {},
   "outputs": [],
   "source": [
    "l_mix[-1]"
   ]
  },
  {
   "cell_type": "markdown",
   "id": "5fad72e8",
   "metadata": {},
   "source": [
    "Second to last:"
   ]
  },
  {
   "cell_type": "code",
   "execution_count": null,
   "id": "e5d40e33",
   "metadata": {},
   "outputs": [],
   "source": [
    "l_mix[-2]"
   ]
  },
  {
   "cell_type": "markdown",
   "id": "0519e19f",
   "metadata": {},
   "source": [
    "#### 🔴 Exercise -- Access elements\n",
    "\n",
    "Find two ways to access the `\"me!\"` from the following list."
   ]
  },
  {
   "cell_type": "code",
   "execution_count": null,
   "id": "510798bd",
   "metadata": {},
   "outputs": [],
   "source": [
    "l = [1, 2, \"me!\", 4, 5]\n"
   ]
  },
  {
   "cell_type": "markdown",
   "id": "d1aba31f",
   "metadata": {},
   "source": [
    "<details><summary><u>Solution.</u></summary>\n",
    "<p>\n",
    "    \n",
    "```python\n",
    "\n",
    "print(l[2],l[-3])\n",
    "    \n",
    "```\n",
    "    \n",
    "</p>\n",
    "</details>"
   ]
  },
  {
   "cell_type": "markdown",
   "id": "e18800a0",
   "metadata": {},
   "source": [
    "Furthermore, you can select a sublist using slicing:"
   ]
  },
  {
   "cell_type": "code",
   "execution_count": null,
   "id": "9259c521",
   "metadata": {},
   "outputs": [],
   "source": [
    "l_mix[1:3]"
   ]
  },
  {
   "cell_type": "markdown",
   "id": "42130722",
   "metadata": {},
   "source": [
    "- The first number in the slice `[1:3]` (`1` in this case) is the index of the first elemening **included**\n",
    "- The second number in the slice `[1:3]` (`3` in this case) is the index of the first elemening **excluded**"
   ]
  },
  {
   "cell_type": "markdown",
   "id": "f1511d24",
   "metadata": {},
   "source": [
    "Leaving one of the ends of the slice blank extends the substring to the beginning or end of the list: "
   ]
  },
  {
   "cell_type": "code",
   "execution_count": null,
   "id": "caa4e43c",
   "metadata": {},
   "outputs": [],
   "source": [
    "l_mix[:3]"
   ]
  },
  {
   "cell_type": "code",
   "execution_count": null,
   "id": "a7d45122",
   "metadata": {},
   "outputs": [],
   "source": [
    "l_mix[2:]"
   ]
  },
  {
   "cell_type": "markdown",
   "id": "43825cad",
   "metadata": {},
   "source": [
    "#### 🔴 Exercise -- Slicing\n",
    "\n",
    "Using slicing, select a sublist containing only the strings from the following list.\n",
    "\n",
    "How many ways can you do it?"
   ]
  },
  {
   "cell_type": "code",
   "execution_count": null,
   "id": "9ad82b3a",
   "metadata": {},
   "outputs": [],
   "source": [
    "r = [1, 2, 3, 4, \"chewin'\", \"out\", \"a\", \"rhythm\"]\n"
   ]
  },
  {
   "cell_type": "markdown",
   "id": "a061aa51",
   "metadata": {},
   "source": [
    "<details><summary><u>Solution.</u></summary>\n",
    "<p>\n",
    "    \n",
    "```python\n",
    "\n",
    "r[4:], r[-4:], r[4:8], r[-4:8]\n",
    "    \n",
    "```\n",
    "    \n",
    "</p>\n",
    "</details>"
   ]
  },
  {
   "cell_type": "markdown",
   "id": "29e6c3c4",
   "metadata": {},
   "source": [
    "A list can even contain another list:"
   ]
  },
  {
   "cell_type": "code",
   "execution_count": null,
   "id": "592a5d24",
   "metadata": {},
   "outputs": [],
   "source": [
    "l_mix = [1, 0.23, 'wow!', [1, 3, 12, -1]]"
   ]
  },
  {
   "cell_type": "code",
   "execution_count": null,
   "id": "680d6361",
   "metadata": {},
   "outputs": [],
   "source": [
    "l_mix"
   ]
  },
  {
   "cell_type": "markdown",
   "id": "8fc7c3a4",
   "metadata": {},
   "source": [
    "You can accessing the inner list:"
   ]
  },
  {
   "cell_type": "code",
   "execution_count": null,
   "id": "83bd139e",
   "metadata": {},
   "outputs": [],
   "source": [
    "l_mix[3]"
   ]
  },
  {
   "cell_type": "markdown",
   "id": "3c12676a",
   "metadata": {},
   "source": [
    "Or:"
   ]
  },
  {
   "cell_type": "code",
   "execution_count": null,
   "id": "67e791de",
   "metadata": {},
   "outputs": [],
   "source": [
    "l_mix[-1]"
   ]
  },
  {
   "cell_type": "markdown",
   "id": "6226ddf1",
   "metadata": {},
   "source": [
    "Access an element of the inner list"
   ]
  },
  {
   "cell_type": "code",
   "execution_count": null,
   "id": "a093f90b",
   "metadata": {},
   "outputs": [],
   "source": [
    "l_mix[3][0]"
   ]
  },
  {
   "cell_type": "markdown",
   "id": "9d22ad58",
   "metadata": {},
   "source": [
    "Remember: this syntax also works for accessing single characters or substrings from a string:"
   ]
  },
  {
   "cell_type": "code",
   "execution_count": null,
   "id": "c4a8ed97",
   "metadata": {},
   "outputs": [],
   "source": [
    "name = 'Ghengis Khan'\n",
    "name[8]"
   ]
  },
  {
   "cell_type": "code",
   "execution_count": null,
   "id": "86af5274",
   "metadata": {},
   "outputs": [],
   "source": [
    "name[8:]"
   ]
  },
  {
   "cell_type": "markdown",
   "id": "7bae2e03",
   "metadata": {},
   "source": [
    "#### 🔴 Exercise -- Slicing\n",
    "\n",
    "Selecting elements by their index and using slicing, select a substring containing \"digital\"."
   ]
  },
  {
   "cell_type": "code",
   "execution_count": null,
   "id": "ca6cc4a0",
   "metadata": {},
   "outputs": [],
   "source": [
    "l = [1, 2, 3, [\"a\",\"b\",\"digital humanities\"]]\n"
   ]
  },
  {
   "cell_type": "markdown",
   "id": "8d1b02aa",
   "metadata": {},
   "source": [
    "<details><summary><u>Solution.</u></summary>\n",
    "<p>\n",
    "    \n",
    "```python\n",
    "\n",
    "l[3][2][:7]\n",
    "    \n",
    "```\n",
    "    \n",
    "</p>\n",
    "</details>"
   ]
  },
  {
   "cell_type": "markdown",
   "id": "f10204e8",
   "metadata": {},
   "source": [
    "## List methods"
   ]
  },
  {
   "cell_type": "markdown",
   "id": "4bf3d34b",
   "metadata": {},
   "source": [
    "Length of a list = number of elements contained inside"
   ]
  },
  {
   "cell_type": "code",
   "execution_count": null,
   "id": "3f57413f",
   "metadata": {},
   "outputs": [],
   "source": [
    "len(l_num)"
   ]
  },
  {
   "cell_type": "markdown",
   "id": "30747d26",
   "metadata": {},
   "source": [
    "Similarly to strings, lists also come with a number of methods:"
   ]
  },
  {
   "cell_type": "code",
   "execution_count": null,
   "id": "a9658bf9",
   "metadata": {},
   "outputs": [],
   "source": [
    "l = []"
   ]
  },
  {
   "cell_type": "code",
   "execution_count": null,
   "id": "ba9e2f1c",
   "metadata": {},
   "outputs": [],
   "source": [
    "l.append(\"hello\") # adds a new element to the end of a list"
   ]
  },
  {
   "cell_type": "code",
   "execution_count": null,
   "id": "69a8bcc7",
   "metadata": {},
   "outputs": [],
   "source": [
    "l"
   ]
  },
  {
   "cell_type": "code",
   "execution_count": null,
   "id": "817c0c13",
   "metadata": {},
   "outputs": [],
   "source": [
    "l_num"
   ]
  },
  {
   "cell_type": "code",
   "execution_count": null,
   "id": "490eacf7",
   "metadata": {},
   "outputs": [],
   "source": [
    "l_num.count(3)"
   ]
  },
  {
   "cell_type": "code",
   "execution_count": null,
   "id": "f236bf6e",
   "metadata": {},
   "outputs": [],
   "source": [
    "l_num.append(3)"
   ]
  },
  {
   "cell_type": "code",
   "execution_count": null,
   "id": "83c40364",
   "metadata": {},
   "outputs": [],
   "source": [
    "l_num.count(3)"
   ]
  },
  {
   "cell_type": "code",
   "execution_count": null,
   "id": "8a0ede9b",
   "metadata": {},
   "outputs": [],
   "source": [
    "l_num.remove(-1)"
   ]
  },
  {
   "cell_type": "code",
   "execution_count": null,
   "id": "803b8d3b",
   "metadata": {},
   "outputs": [],
   "source": [
    "l_num"
   ]
  },
  {
   "cell_type": "code",
   "execution_count": null,
   "id": "fb9a29a4",
   "metadata": {},
   "outputs": [],
   "source": [
    "l_num.sort()"
   ]
  },
  {
   "cell_type": "code",
   "execution_count": null,
   "id": "06b5e27f",
   "metadata": {},
   "outputs": [],
   "source": [
    "l_num"
   ]
  },
  {
   "cell_type": "markdown",
   "id": "6e1e8bf8",
   "metadata": {},
   "source": [
    "Note an important difference between strings and lists:\n",
    "\n",
    "String methods never modified the string, but always returned a new one:"
   ]
  },
  {
   "cell_type": "code",
   "execution_count": null,
   "id": "7f503b96",
   "metadata": {},
   "outputs": [],
   "source": [
    "s = \"heirloom tomatoes\"\n",
    "new_s = s.upper()\n",
    "s, new_s"
   ]
  },
  {
   "cell_type": "markdown",
   "id": "d2d2441a",
   "metadata": {},
   "source": [
    "List methods, on the other hand, often change the list that they are called on:"
   ]
  },
  {
   "cell_type": "code",
   "execution_count": null,
   "id": "af42d3f7",
   "metadata": {},
   "outputs": [],
   "source": [
    "l = [1,2,3]\n",
    "l.append(\"wow!\") # does not return anything, changes L\n",
    "l"
   ]
  },
  {
   "cell_type": "markdown",
   "id": "fc549f7c",
   "metadata": {},
   "source": [
    "* List is called a mutable object: it can be modified in place.\n",
    "* Strings are immutable: they cannot be modified without creating a new copy.\n",
    "\n",
    "This is also causes different behavior if you try to change an element of a list or a character of a string:"
   ]
  },
  {
   "cell_type": "code",
   "execution_count": null,
   "id": "c17263b1",
   "metadata": {},
   "outputs": [],
   "source": [
    "l = [1 ,2, 3]\n",
    "l[1] = \"wow!\"\n",
    "l"
   ]
  },
  {
   "cell_type": "code",
   "execution_count": null,
   "id": "a6c0698c",
   "metadata": {},
   "outputs": [],
   "source": [
    "s = \"lore\"\n",
    "s[2]='v'"
   ]
  },
  {
   "cell_type": "markdown",
   "id": "a3399a43",
   "metadata": {},
   "source": [
    "## Checking contents"
   ]
  },
  {
   "cell_type": "markdown",
   "id": "81529aaf",
   "metadata": {},
   "source": [
    "You can check if a list contains an element with the `in` operator:"
   ]
  },
  {
   "cell_type": "code",
   "execution_count": null,
   "id": "561db310",
   "metadata": {},
   "outputs": [],
   "source": [
    "my_pets = [\"parrot\", \"gold fish\", \"slime mold\", \"frog\"]\n",
    "\n",
    "pet_type = \"cat\"\n",
    "if \"cat\" in my_pets:\n",
    "    print(f\"I have a {pet_type}!\")\n",
    "else:\n",
    "    print(f\"I do have a {pet_type}!\", )"
   ]
  },
  {
   "cell_type": "markdown",
   "id": "c21f4beb",
   "metadata": {},
   "source": [
    "## Useful functions"
   ]
  },
  {
   "cell_type": "markdown",
   "id": "ab78011c",
   "metadata": {},
   "source": [
    "Functions can take lists as arguments, commonly used examples are `len`, `max` and `min`. \n",
    "\n",
    "Length of a list = number of elements contained inside"
   ]
  },
  {
   "cell_type": "code",
   "execution_count": null,
   "id": "36fad37d",
   "metadata": {},
   "outputs": [],
   "source": [
    "l_num = [3, -1, 12, 5]\n",
    "len(l_num)"
   ]
  },
  {
   "cell_type": "markdown",
   "id": "6fb7140a",
   "metadata": {},
   "source": [
    "You can find the maximum element of a list using the built-in `max` function:"
   ]
  },
  {
   "cell_type": "code",
   "execution_count": null,
   "id": "88bf4ce9",
   "metadata": {},
   "outputs": [],
   "source": [
    "max(l_num)"
   ]
  },
  {
   "cell_type": "markdown",
   "id": "87be54a1",
   "metadata": {},
   "source": [
    "Likewise:"
   ]
  },
  {
   "cell_type": "code",
   "execution_count": null,
   "id": "21b52af1",
   "metadata": {},
   "outputs": [],
   "source": [
    "min(l_num)"
   ]
  },
  {
   "cell_type": "markdown",
   "id": "90a15f97",
   "metadata": {},
   "source": [
    "#### 🔴 Exercise -- random word\n",
    "\n",
    "Define a new list `l_words` that contains a bunch of words. Then write code that randomly picks a word from this list.\n",
    "\n",
    "Hint: We already briefly used the `random` module which contains functions related to randomness. Check out the documentation of the `random.choice` function."
   ]
  },
  {
   "cell_type": "code",
   "execution_count": null,
   "id": "6b5592eb",
   "metadata": {},
   "outputs": [],
   "source": []
  },
  {
   "cell_type": "markdown",
   "id": "057e6925",
   "metadata": {},
   "source": [
    "<details><summary><u>Solution.</u></summary>\n",
    "<p>\n",
    "    \n",
    "```python\n",
    "\n",
    "l_words = ['apple', 'disgust', 'digital', 'hello']\n",
    "\n",
    "print( random.choice(l_words) )\n",
    "    \n",
    "```\n",
    "    \n",
    "</p>\n",
    "</details>"
   ]
  },
  {
   "cell_type": "markdown",
   "id": "cf0b82c1",
   "metadata": {},
   "source": [
    "#### 🔴 Exercise -- random sentence\n",
    "\n",
    "Remember that we can concatenate two or more strings using the `+` operator?"
   ]
  },
  {
   "cell_type": "code",
   "execution_count": null,
   "id": "4559ae70",
   "metadata": {},
   "outputs": [],
   "source": [
    "\"Ghengis\" + \" \" + \"Khan\""
   ]
  },
  {
   "cell_type": "markdown",
   "id": "45d34aac",
   "metadata": {},
   "source": [
    "Define a list containing subjects, a list containing verbs and a list containing objects. Concatenate random elements of these lists to form a random sentence."
   ]
  },
  {
   "cell_type": "code",
   "execution_count": null,
   "id": "52d74cab",
   "metadata": {},
   "outputs": [],
   "source": []
  },
  {
   "cell_type": "markdown",
   "id": "3857d9f5",
   "metadata": {},
   "source": [
    "<details><summary><u>Solution.</u></summary>\n",
    "<p>\n",
    "    \n",
    "```python\n",
    "\n",
    "l_subject = ['Marton', 'Robyn', 'A dog', 'A police officer']\n",
    "l_verb = ['ate', 'looked at', 'sat on']\n",
    "l_object = ['my homework', 'my lunch', 'my car keys']\n",
    "    \n",
    "random.choice(l_subject) + ' ' + random.choice(l_verb) + ' ' + random.choice(l_object) + '.' \n",
    "\n",
    "    \n",
    "```\n",
    "    \n",
    "</p>\n",
    "</details>"
   ]
  },
  {
   "cell_type": "markdown",
   "id": "ab43c45b",
   "metadata": {},
   "source": [
    "If you were browsing the internet in the early 2000s, you might encountered so-called coorporate bullshit generators that worked on the same principle:"
   ]
  },
  {
   "cell_type": "code",
   "execution_count": null,
   "id": "f2ff79b1",
   "metadata": {},
   "outputs": [],
   "source": [
    "l_sub   = ['Members of the SLT','Inter-departmental committees',\n",
    "               'Student representatives', 'Peer reviewers','Digital humanists', \n",
    "               'The Father, Jesus and the Holly Spirit']\n",
    "l_verb1 = ['must', 'need to', 'would love to','are too ignorant to']\n",
    "l_verb2 = ['understand', 'increase', 'incorporate', 'elevate', 'herald in the age of']\n",
    "l_adj   = ['digital','epistemological','multi-layered','the essence of']\n",
    "l_obj   = ['ontologies','visual storytelling','computational resource building',\n",
    "            'interoperations', 'graphical excellence']"
   ]
  },
  {
   "cell_type": "code",
   "execution_count": null,
   "id": "57889751",
   "metadata": {},
   "outputs": [],
   "source": [
    "( \n",
    "    random.choice(l_sub) + ' ' \n",
    "    + random.choice(l_verb1) + ' '\n",
    "    + random.choice(l_verb2) + ' '\n",
    "    + random.choice(l_adj) + ' '\n",
    "    + random.choice(l_obj) + '!'\n",
    ")"
   ]
  },
  {
   "cell_type": "code",
   "execution_count": null,
   "id": "657d924c",
   "metadata": {},
   "outputs": [],
   "source": []
  }
 ],
 "metadata": {
  "language_info": {
   "name": "python",
   "pygments_lexer": "ipython3"
  }
 },
 "nbformat": 4,
 "nbformat_minor": 5
}
