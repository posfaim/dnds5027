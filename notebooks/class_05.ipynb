{
 "cells": [
  {
   "cell_type": "markdown",
   "id": "aebc9dc0",
   "metadata": {},
   "source": [
    "# Python for everyone -- 05 Lists"
   ]
  },
  {
   "cell_type": "markdown",
   "id": "d262c40b",
   "metadata": {},
   "source": [
    "## Prelude: using Jupyter notebooks"
   ]
  },
  {
   "cell_type": "markdown",
   "id": "00b0f762",
   "metadata": {},
   "source": [
    "The document that you are reading right now is a Jupyter notebook, in this course we write our code in such notebooks.\n",
    "\n",
    "Jupyter notebooks allow to combine formatted text and executable code side-by-side; therefore you can have your code, explanations and note, its output and its interpretation all in one place. It is often used for data science applications, publishing together with a paper, and for classes.\n",
    "\n",
    "The notebooks are made up of cells, which can be either markdown or code."
   ]
  },
  {
   "cell_type": "markdown",
   "id": "fb1b585f",
   "metadata": {},
   "source": [
    "**Important thing to get used to:**\n",
    "\n",
    "Whatever expression is on the last line of a code cell, it gets printed out."
   ]
  },
  {
   "cell_type": "code",
   "execution_count": null,
   "id": "4f11439f",
   "metadata": {},
   "outputs": [],
   "source": [
    "2 + 3"
   ]
  },
  {
   "cell_type": "markdown",
   "id": "28c2977d",
   "metadata": {},
   "source": [
    "You can do other things before it, only the last line gets printed out automatically:"
   ]
  },
  {
   "cell_type": "code",
   "execution_count": null,
   "id": "8e551c3c",
   "metadata": {},
   "outputs": [],
   "source": [
    "s = \"hello\"\n",
    "new_s = s.capitalize() + \"!\"\n",
    "new_s"
   ]
  },
  {
   "cell_type": "markdown",
   "id": "387fdcb7",
   "metadata": {},
   "source": [
    "You can print out things before the last line using the `print` function."
   ]
  },
  {
   "cell_type": "code",
   "execution_count": null,
   "id": "d21cdb1a",
   "metadata": {},
   "outputs": [],
   "source": [
    "x = 10\n",
    "y = 12\n",
    "print(f\"{x} + {y} = {x+y}\")\n",
    "x-y"
   ]
  },
  {
   "cell_type": "markdown",
   "id": "d5515712",
   "metadata": {},
   "source": [
    "And only expressions that return a value/evaluate to something get printed out."
   ]
  },
  {
   "cell_type": "code",
   "execution_count": null,
   "id": "119e10d6",
   "metadata": {},
   "outputs": [],
   "source": [
    "x = 3.14 "
   ]
  },
  {
   "cell_type": "markdown",
   "id": "405966fc",
   "metadata": {},
   "source": [
    "The above expression changed the variable `x`, but did not return anything.\n",
    "\n",
    "Rule of thumb: whatever you can print out with `print()` gets printed out by the last line too."
   ]
  },
  {
   "cell_type": "code",
   "execution_count": null,
   "id": "b9e9b3b0",
   "metadata": {},
   "outputs": [],
   "source": [
    "print(x)\n",
    "x"
   ]
  },
  {
   "cell_type": "code",
   "execution_count": null,
   "id": "d2b0ac8a",
   "metadata": {},
   "outputs": [],
   "source": [
    "print(x=10)"
   ]
  },
  {
   "cell_type": "markdown",
   "id": "bdbb9c4d",
   "metadata": {},
   "source": [
    "Another important thing:\n",
    "\n",
    "Cells are not guaranteed to be executed in the order that they appear. You run them in whatever order and as many times as you decide. This can have strange effects "
   ]
  },
  {
   "cell_type": "code",
   "execution_count": null,
   "id": "95471d19",
   "metadata": {},
   "outputs": [],
   "source": [
    "print(y)"
   ]
  },
  {
   "cell_type": "code",
   "execution_count": null,
   "id": "f5026ebc",
   "metadata": {},
   "outputs": [],
   "source": [
    "y = 10"
   ]
  },
  {
   "cell_type": "markdown",
   "id": "77806338",
   "metadata": {},
   "source": [
    "You might even end up deleting the line of code that creates the variable `y`, but that does not delete `y` from the internal state of Python."
   ]
  },
  {
   "cell_type": "markdown",
   "id": "95d64c07",
   "metadata": {},
   "source": [
    "You can restart the kernel to start from a clean slate. This deletes all variables and results."
   ]
  },
  {
   "cell_type": "markdown",
   "id": "eee761d6",
   "metadata": {},
   "source": [
    "Two good ideas:\n",
    "* If you are uncertain what a variable contains. Check it out (for example, by printing it out)!\n",
    "* When you are done with a project/homework: restart the kernel and test the code again."
   ]
  },
  {
   "cell_type": "markdown",
   "id": "dcfb1f7a",
   "metadata": {},
   "source": [
    "## Lists"
   ]
  },
  {
   "cell_type": "markdown",
   "id": "3149d6a6",
   "metadata": {},
   "source": [
    "We so far looked at data types that only contained a single value (number, text, true/false). However, we often have to work with a sample or collection of data points.\n",
    "\n",
    "Python also has container types that can contain multiple objects. The first one we look at are lists.\n",
    "\n",
    "A list of numbers:"
   ]
  },
  {
   "cell_type": "code",
   "execution_count": null,
   "id": "b0d1b22f",
   "metadata": {},
   "outputs": [],
   "source": [
    "l_num = [1, 3, 12, -1]"
   ]
  },
  {
   "cell_type": "markdown",
   "id": "be2fbd94",
   "metadata": {},
   "source": [
    "To define a list: enclosed in square brackets `[...]`, you list elements separated by a comma.\n",
    "\n",
    "List of strings:"
   ]
  },
  {
   "cell_type": "code",
   "execution_count": null,
   "id": "bda1a788",
   "metadata": {},
   "outputs": [],
   "source": [
    "l_str = ['apple', 'barn', 'hopscotch']"
   ]
  },
  {
   "cell_type": "markdown",
   "id": "19ef89ad",
   "metadata": {},
   "source": [
    "Lists can also contain mixed types:"
   ]
  },
  {
   "cell_type": "code",
   "execution_count": null,
   "id": "492f1911",
   "metadata": {},
   "outputs": [],
   "source": [
    "l_mix = [1, 0.23, \"wow!\"]"
   ]
  },
  {
   "cell_type": "markdown",
   "id": "dc37d44f",
   "metadata": {},
   "source": [
    "## Accessing elements"
   ]
  },
  {
   "cell_type": "markdown",
   "id": "35f9f1a0",
   "metadata": {},
   "source": [
    "We can retrive elelements of a list the same way as we accessed single characters of a string. \n",
    "\n",
    "Accessing a single element of a list:"
   ]
  },
  {
   "cell_type": "code",
   "execution_count": null,
   "id": "2b7213f4",
   "metadata": {},
   "outputs": [],
   "source": [
    "l_mix[0]"
   ]
  },
  {
   "cell_type": "markdown",
   "id": "2a95690e",
   "metadata": {},
   "source": [
    "Same way as for strings: indexing starts from **0**!"
   ]
  },
  {
   "cell_type": "code",
   "execution_count": null,
   "id": "e50c4b0f",
   "metadata": {},
   "outputs": [],
   "source": [
    "l_mix[1]"
   ]
  },
  {
   "cell_type": "markdown",
   "id": "dd736ba1",
   "metadata": {},
   "source": [
    "You can access the last element with `-1`:"
   ]
  },
  {
   "cell_type": "code",
   "execution_count": null,
   "id": "cf935ed3",
   "metadata": {},
   "outputs": [],
   "source": [
    "l_mix[-1]"
   ]
  },
  {
   "cell_type": "markdown",
   "id": "5fad72e8",
   "metadata": {},
   "source": [
    "Second to last:"
   ]
  },
  {
   "cell_type": "code",
   "execution_count": null,
   "id": "e5d40e33",
   "metadata": {},
   "outputs": [],
   "source": [
    "l_mix[-2]"
   ]
  },
  {
   "cell_type": "markdown",
   "id": "0519e19f",
   "metadata": {},
   "source": [
    "#### 🔴 Exercise -- Access elements\n",
    "\n",
    "Find two ways to access the `\"me!\"` from the following list."
   ]
  },
  {
   "cell_type": "code",
   "execution_count": null,
   "id": "510798bd",
   "metadata": {},
   "outputs": [],
   "source": [
    "l = [1, 2, \"me!\", 4, 5]\n"
   ]
  },
  {
   "cell_type": "markdown",
   "id": "d1aba31f",
   "metadata": {},
   "source": [
    "<details><summary><u>Solution.</u></summary>\n",
    "<p>\n",
    "    \n",
    "```python\n",
    "\n",
    "print(l[2],l[-3])\n",
    "    \n",
    "```\n",
    "    \n",
    "</p>\n",
    "</details>"
   ]
  },
  {
   "cell_type": "markdown",
   "id": "e18800a0",
   "metadata": {},
   "source": [
    "Furthermore, you can select a sublist using slicing:"
   ]
  },
  {
   "cell_type": "code",
   "execution_count": null,
   "id": "9259c521",
   "metadata": {},
   "outputs": [],
   "source": [
    "l_mix[1:3]"
   ]
  },
  {
   "cell_type": "markdown",
   "id": "42130722",
   "metadata": {},
   "source": [
    "- The first number in the slice `[1:3]` (`1` in this case) is the index of the first elemening **included**\n",
    "- The second number in the slice `[1:3]` (`3` in this case) is the index of the first elemening **excluded**"
   ]
  },
  {
   "cell_type": "markdown",
   "id": "f1511d24",
   "metadata": {},
   "source": [
    "Leaving one of the ends of the slice blank extends the substring to the beginning or end of the list: "
   ]
  },
  {
   "cell_type": "code",
   "execution_count": null,
   "id": "caa4e43c",
   "metadata": {},
   "outputs": [],
   "source": [
    "l_mix[:3]"
   ]
  },
  {
   "cell_type": "code",
   "execution_count": null,
   "id": "a7d45122",
   "metadata": {},
   "outputs": [],
   "source": [
    "l_mix[2:]"
   ]
  },
  {
   "cell_type": "markdown",
   "id": "43825cad",
   "metadata": {},
   "source": [
    "#### 🔴 Exercise -- Slicing\n",
    "\n",
    "Using slicing, select a sublist containing only the strings from the following list.\n",
    "\n",
    "How many ways can you do it?"
   ]
  },
  {
   "cell_type": "code",
   "execution_count": null,
   "id": "9ad82b3a",
   "metadata": {},
   "outputs": [],
   "source": [
    "r = [1, 2, 3, 4, \"chewin'\", \"out\", \"a\", \"rhythm\"]\n"
   ]
  },
  {
   "cell_type": "markdown",
   "id": "a061aa51",
   "metadata": {},
   "source": [
    "<details><summary><u>Solution.</u></summary>\n",
    "<p>\n",
    "    \n",
    "```python\n",
    "\n",
    "r[4:], r[-4:], r[4:8], r[-4:8]\n",
    "    \n",
    "```\n",
    "    \n",
    "</p>\n",
    "</details>"
   ]
  },
  {
   "cell_type": "markdown",
   "id": "29e6c3c4",
   "metadata": {},
   "source": [
    "A list can even contain another list:"
   ]
  },
  {
   "cell_type": "code",
   "execution_count": null,
   "id": "592a5d24",
   "metadata": {},
   "outputs": [],
   "source": [
    "l_mix = [1, 0.23, 'wow!', [1, 3, 12, -1]]"
   ]
  },
  {
   "cell_type": "code",
   "execution_count": null,
   "id": "680d6361",
   "metadata": {},
   "outputs": [],
   "source": [
    "l_mix"
   ]
  },
  {
   "cell_type": "markdown",
   "id": "8fc7c3a4",
   "metadata": {},
   "source": [
    "You can accessing the inner list:"
   ]
  },
  {
   "cell_type": "code",
   "execution_count": null,
   "id": "83bd139e",
   "metadata": {},
   "outputs": [],
   "source": [
    "l_mix[3]"
   ]
  },
  {
   "cell_type": "markdown",
   "id": "3c12676a",
   "metadata": {},
   "source": [
    "Or:"
   ]
  },
  {
   "cell_type": "code",
   "execution_count": null,
   "id": "67e791de",
   "metadata": {},
   "outputs": [],
   "source": [
    "l_mix[-1]"
   ]
  },
  {
   "cell_type": "markdown",
   "id": "6226ddf1",
   "metadata": {},
   "source": [
    "Access an element of the inner list"
   ]
  },
  {
   "cell_type": "code",
   "execution_count": null,
   "id": "a093f90b",
   "metadata": {},
   "outputs": [],
   "source": [
    "l_mix[3][0]"
   ]
  },
  {
   "cell_type": "markdown",
   "id": "9d22ad58",
   "metadata": {},
   "source": [
    "Remember: this syntax also works for accessing single characters or substrings from a string:"
   ]
  },
  {
   "cell_type": "code",
   "execution_count": null,
   "id": "c4a8ed97",
   "metadata": {},
   "outputs": [],
   "source": [
    "name = 'Ghengis Khan'\n",
    "name[8]"
   ]
  },
  {
   "cell_type": "code",
   "execution_count": null,
   "id": "86af5274",
   "metadata": {},
   "outputs": [],
   "source": [
    "name[8:]"
   ]
  },
  {
   "cell_type": "markdown",
   "id": "7bae2e03",
   "metadata": {},
   "source": [
    "#### 🔴 Exercise -- Slicing\n",
    "\n",
    "Selecting elements by their index and using slicing, select a substring containing \"digital\"."
   ]
  },
  {
   "cell_type": "code",
   "execution_count": null,
   "id": "ca6cc4a0",
   "metadata": {},
   "outputs": [],
   "source": [
    "l = [1, 2, 3, [\"a\",\"b\",\"digital humanities\"]]\n"
   ]
  },
  {
   "cell_type": "markdown",
   "id": "8d1b02aa",
   "metadata": {},
   "source": [
    "<details><summary><u>Solution.</u></summary>\n",
    "<p>\n",
    "    \n",
    "```python\n",
    "\n",
    "l[3][2][:7]\n",
    "    \n",
    "```\n",
    "    \n",
    "</p>\n",
    "</details>"
   ]
  },
  {
   "cell_type": "markdown",
   "id": "f10204e8",
   "metadata": {},
   "source": [
    "## List methods"
   ]
  },
  {
   "cell_type": "markdown",
   "id": "30747d26",
   "metadata": {},
   "source": [
    "Similarly to strings, lists also come with a number of methods:"
   ]
  },
  {
   "cell_type": "code",
   "execution_count": null,
   "id": "a9658bf9",
   "metadata": {},
   "outputs": [],
   "source": [
    "l = []"
   ]
  },
  {
   "cell_type": "markdown",
   "id": "4d14a31b",
   "metadata": {},
   "source": [
    "`.append()`: adds a new element to the end of a list"
   ]
  },
  {
   "cell_type": "code",
   "execution_count": null,
   "id": "ba9e2f1c",
   "metadata": {},
   "outputs": [],
   "source": [
    "l.append(\"hello\") # adds a new element to the end of a list"
   ]
  },
  {
   "cell_type": "code",
   "execution_count": null,
   "id": "69a8bcc7",
   "metadata": {},
   "outputs": [],
   "source": [
    "l"
   ]
  },
  {
   "cell_type": "code",
   "execution_count": null,
   "id": "817c0c13",
   "metadata": {},
   "outputs": [],
   "source": [
    "l_num"
   ]
  },
  {
   "cell_type": "markdown",
   "id": "a78adcf9",
   "metadata": {},
   "source": [
    "`.count()`: counts the number of occurences of a value."
   ]
  },
  {
   "cell_type": "code",
   "execution_count": null,
   "id": "490eacf7",
   "metadata": {},
   "outputs": [],
   "source": [
    "l_num = [1, 3, 12, -1]\n",
    "l_num.count(3)"
   ]
  },
  {
   "cell_type": "code",
   "execution_count": null,
   "id": "f236bf6e",
   "metadata": {},
   "outputs": [],
   "source": [
    "l_num.append(3)"
   ]
  },
  {
   "cell_type": "code",
   "execution_count": null,
   "id": "604b4d41",
   "metadata": {},
   "outputs": [],
   "source": [
    "l_num"
   ]
  },
  {
   "cell_type": "code",
   "execution_count": null,
   "id": "83c40364",
   "metadata": {},
   "outputs": [],
   "source": [
    "l_num.count(3)"
   ]
  },
  {
   "cell_type": "markdown",
   "id": "dcbee33c",
   "metadata": {},
   "source": [
    "`.remove()`: removes first occurrence of a value."
   ]
  },
  {
   "cell_type": "code",
   "execution_count": null,
   "id": "8a0ede9b",
   "metadata": {},
   "outputs": [],
   "source": [
    "l_num.remove(-1)"
   ]
  },
  {
   "cell_type": "code",
   "execution_count": null,
   "id": "803b8d3b",
   "metadata": {},
   "outputs": [],
   "source": [
    "l_num"
   ]
  },
  {
   "cell_type": "code",
   "execution_count": null,
   "id": "6a3eed7d",
   "metadata": {},
   "outputs": [],
   "source": [
    "l_num.remove(3)"
   ]
  },
  {
   "cell_type": "code",
   "execution_count": null,
   "id": "252b410f",
   "metadata": {},
   "outputs": [],
   "source": [
    "l_num"
   ]
  },
  {
   "cell_type": "markdown",
   "id": "0ab6abb9",
   "metadata": {},
   "source": [
    "`.sort()`: sort the elements in increasing order."
   ]
  },
  {
   "cell_type": "code",
   "execution_count": null,
   "id": "fb9a29a4",
   "metadata": {},
   "outputs": [],
   "source": [
    "l_num.sort()"
   ]
  },
  {
   "cell_type": "code",
   "execution_count": null,
   "id": "06b5e27f",
   "metadata": {},
   "outputs": [],
   "source": [
    "l_num"
   ]
  },
  {
   "cell_type": "code",
   "execution_count": null,
   "id": "b99b6407",
   "metadata": {},
   "outputs": [],
   "source": [
    "l_num.sort(reverse=True)"
   ]
  },
  {
   "cell_type": "code",
   "execution_count": null,
   "id": "c5d57576",
   "metadata": {},
   "outputs": [],
   "source": [
    "l_num"
   ]
  },
  {
   "cell_type": "markdown",
   "id": "6e1e8bf8",
   "metadata": {},
   "source": [
    "Note an important difference between strings and lists:\n",
    "\n",
    "String methods never modified the string, but always returned a new one:"
   ]
  },
  {
   "cell_type": "code",
   "execution_count": null,
   "id": "7f503b96",
   "metadata": {},
   "outputs": [],
   "source": [
    "s = \"heirloom tomatoes\"\n",
    "new_s = s.upper()\n",
    "s, new_s"
   ]
  },
  {
   "cell_type": "markdown",
   "id": "d2d2441a",
   "metadata": {},
   "source": [
    "List methods, on the other hand, often change the list that they are called on:"
   ]
  },
  {
   "cell_type": "code",
   "execution_count": null,
   "id": "af42d3f7",
   "metadata": {},
   "outputs": [],
   "source": [
    "l = [1,2,3]\n",
    "l.append(\"wow!\") # does not return anything, changes L\n",
    "l"
   ]
  },
  {
   "cell_type": "markdown",
   "id": "fc549f7c",
   "metadata": {},
   "source": [
    "* List is called a **mutable** object: it can be modified in place.\n",
    "* Strings are **immutable**: they cannot be modified without creating a new copy.\n",
    "\n",
    "This is also causes different behavior if you try to change an element of a list or a character of a string:"
   ]
  },
  {
   "cell_type": "code",
   "execution_count": null,
   "id": "c17263b1",
   "metadata": {},
   "outputs": [],
   "source": [
    "l = [1 ,2, 3]\n",
    "l[1] = \"wow!\"\n",
    "l"
   ]
  },
  {
   "cell_type": "code",
   "execution_count": null,
   "id": "a6c0698c",
   "metadata": {},
   "outputs": [],
   "source": [
    "s = \"lore\"\n",
    "s[2]='v'"
   ]
  },
  {
   "cell_type": "markdown",
   "id": "167ce8ef",
   "metadata": {},
   "source": [
    "## Sorting in-place vs new list\n",
    "\n",
    "Above we saw a way to sort a list: `.sort()` modifies the list by re-ordering the elements it contains. This is called sorting **in-place**:"
   ]
  },
  {
   "cell_type": "code",
   "execution_count": null,
   "id": "2b38d613",
   "metadata": {},
   "outputs": [],
   "source": [
    "baby_weights = [3100, 4210, 3670, 4830, 3050]\n",
    "baby_weights.sort() # does not return anything, but changes baby_weights\n",
    "baby_weights"
   ]
  },
  {
   "cell_type": "markdown",
   "id": "e6336169",
   "metadata": {},
   "source": [
    "Python has another function called `sorted()`, which also sorts the values of a list, but instead of modifying the list, it creates a new one and leaves the original untouched."
   ]
  },
  {
   "cell_type": "code",
   "execution_count": null,
   "id": "95d592a3",
   "metadata": {},
   "outputs": [],
   "source": [
    "baby_weights = [3100, 4210, 3670, 4830, 3050]\n",
    "sorted_baby_weights = sorted(baby_weights) # returns new list, leaves original unchanged\n",
    "baby_weights, sorted_baby_weights"
   ]
  },
  {
   "cell_type": "markdown",
   "id": "90a15f97",
   "metadata": {},
   "source": [
    "#### 🔴 Exercise -- sorting\n",
    "\n",
    "Write code that asks the user for a number and appends it to the list below. Then prints out the list sorted and the list in the original order."
   ]
  },
  {
   "cell_type": "code",
   "execution_count": null,
   "id": "6b5592eb",
   "metadata": {},
   "outputs": [],
   "source": [
    "nums = [1,45,-3, 8]\n",
    "\n"
   ]
  },
  {
   "cell_type": "markdown",
   "id": "057e6925",
   "metadata": {},
   "source": [
    "<details><summary><u>Solution.</u></summary>\n",
    "<p>\n",
    "    \n",
    "```python\n",
    "new_num = int(input('enter new number'))\n",
    "\n",
    "nums.append(new_num)\n",
    "sorted_nums = sorted(nums)\n",
    "\n",
    "print(\"Original list:\", nums)\n",
    "print(\"Sorted list:\", sorted_nums)\n",
    "```\n",
    "    \n",
    "</p>\n",
    "</details>"
   ]
  },
  {
   "cell_type": "markdown",
   "id": "a3399a43",
   "metadata": {},
   "source": [
    "## Checking contents"
   ]
  },
  {
   "cell_type": "markdown",
   "id": "81529aaf",
   "metadata": {},
   "source": [
    "You can check if a list contains an element with the `in` operator:"
   ]
  },
  {
   "cell_type": "code",
   "execution_count": null,
   "id": "561db310",
   "metadata": {},
   "outputs": [],
   "source": [
    "my_pets = [\"parrot\", \"gold fish\", \"slime mold\", \"frog\"]\n",
    "\n",
    "pet_type = \"cat\"\n",
    "if pet_type in my_pets:\n",
    "    print(f\"I have a {pet_type}!\")\n",
    "else:\n",
    "    print(f\"I do have a {pet_type}!\", )"
   ]
  },
  {
   "cell_type": "markdown",
   "id": "034fb43e",
   "metadata": {},
   "source": [
    "#### 🔴 Exercise -- random word\n",
    "\n",
    "Define a new list `l_words` that contains a bunch of words. Then write code that randomly picks a word from this list.\n",
    "\n",
    "Hint: We already briefly used the `random` module which contains functions related to randomness. Check out the documentation of the `random.choice` function."
   ]
  },
  {
   "cell_type": "code",
   "execution_count": null,
   "id": "30454a7d",
   "metadata": {},
   "outputs": [],
   "source": []
  },
  {
   "cell_type": "markdown",
   "id": "840ba784",
   "metadata": {},
   "source": [
    "<details><summary><u>Solution.</u></summary>\n",
    "<p>\n",
    "    \n",
    "```python\n",
    "\n",
    "l_words = ['apple', 'disgust', 'digital', 'hello']\n",
    "\n",
    "print( random.choice(l_words) )\n",
    "    \n",
    "```\n",
    "    \n",
    "</p>\n",
    "</details>"
   ]
  },
  {
   "cell_type": "markdown",
   "id": "c21f4beb",
   "metadata": {},
   "source": [
    "## Useful functions"
   ]
  },
  {
   "cell_type": "markdown",
   "id": "ab78011c",
   "metadata": {},
   "source": [
    "Functions can take lists as arguments, commonly used examples are `len`, `max`, `min` and `sum`. \n",
    "\n",
    "Length of a list = number of elements contained inside"
   ]
  },
  {
   "cell_type": "code",
   "execution_count": null,
   "id": "36fad37d",
   "metadata": {},
   "outputs": [],
   "source": [
    "l_num = [3, -1, 12, 5]\n",
    "len(l_num)"
   ]
  },
  {
   "cell_type": "markdown",
   "id": "6fb7140a",
   "metadata": {},
   "source": [
    "You can find the maximum element of a list using the built-in `max` function:"
   ]
  },
  {
   "cell_type": "code",
   "execution_count": null,
   "id": "88bf4ce9",
   "metadata": {},
   "outputs": [],
   "source": [
    "max(l_num)"
   ]
  },
  {
   "cell_type": "markdown",
   "id": "87be54a1",
   "metadata": {},
   "source": [
    "Likewise:"
   ]
  },
  {
   "cell_type": "code",
   "execution_count": null,
   "id": "21b52af1",
   "metadata": {},
   "outputs": [],
   "source": [
    "min(l_num)"
   ]
  },
  {
   "cell_type": "markdown",
   "id": "2697710b",
   "metadata": {},
   "source": [
    "It should come as no surprise that the `sum()` function calculates the sum of the values in a list:"
   ]
  },
  {
   "cell_type": "code",
   "execution_count": null,
   "id": "df8dc193",
   "metadata": {},
   "outputs": [],
   "source": [
    "sum(l_num)"
   ]
  },
  {
   "cell_type": "markdown",
   "id": "7c298d4e",
   "metadata": {},
   "source": [
    "#### 🔴 Exercise -- Average\n",
    "\n",
    "Students recieve a grade in the class on a scale of 0 to 100. The following list contains the grades of the students, calculate the average grade.\n",
    "\n",
    "Hint: you need to use to of the functions above."
   ]
  },
  {
   "cell_type": "code",
   "execution_count": null,
   "id": "ce69ae05",
   "metadata": {},
   "outputs": [],
   "source": [
    "grades = [84, 97, 87, 86, 85, 82, 68, 78, 80, 71, 72, 93, 96, 93, 93, 95, 96, 68, 71, 71]\n",
    "\n"
   ]
  },
  {
   "cell_type": "markdown",
   "id": "990324ce",
   "metadata": {},
   "source": [
    "<details><summary><u>Solution.</u></summary>\n",
    "<p>\n",
    "    \n",
    "```python\n",
    "avg = sum(grades)/len(grades)\n",
    "avg \n",
    "```\n",
    "    \n",
    "</p>\n",
    "</details>"
   ]
  },
  {
   "cell_type": "markdown",
   "id": "3104bde5",
   "metadata": {},
   "source": [
    "### 🔴 Exercise in two parts\n",
    "\n",
    "If you were browsing the internet in the early 2000s, you might encountered so-called coorporate bullshit generators. Something like [this](https://posfaim.github.io/dnds5027/bs_gen.html).\n",
    "\n",
    "We will use Python to generate similar random sentences. When we encounter a problem that we would like to solve with programing the first step is to make plan and break it down into smaller tasks. We can then tackle these tasks one-by-one always testing the code along the way."
   ]
  },
  {
   "cell_type": "markdown",
   "id": "53651c89",
   "metadata": {},
   "source": [
    "#### 🔴 Exercise -- random word\n",
    "\n",
    "Define a new list `l_words` that contains a bunch of words. Then write code that randomly picks a word from this list.\n",
    "\n",
    "Hint: We already briefly used the `random` module which contains functions related to randomness. Check out the documentation of the `random.choice` function."
   ]
  },
  {
   "cell_type": "code",
   "execution_count": null,
   "id": "05c083bc",
   "metadata": {},
   "outputs": [],
   "source": []
  },
  {
   "cell_type": "markdown",
   "id": "7b2d3df5",
   "metadata": {},
   "source": [
    "<details><summary><u>Solution.</u></summary>\n",
    "<p>\n",
    "    \n",
    "```python\n",
    "\n",
    "l_words = ['apple', 'disgust', 'digital', 'hello']\n",
    "\n",
    "print( random.choice(l_words) )\n",
    "    \n",
    "```\n",
    "    \n",
    "</p>\n",
    "</details>"
   ]
  },
  {
   "cell_type": "markdown",
   "id": "cf0b82c1",
   "metadata": {},
   "source": [
    "#### 🔴 Exercise -- random sentence\n",
    "\n",
    "Concatenate the random words to create a random sentence."
   ]
  },
  {
   "cell_type": "code",
   "execution_count": null,
   "id": "52d74cab",
   "metadata": {},
   "outputs": [],
   "source": []
  },
  {
   "cell_type": "markdown",
   "id": "3857d9f5",
   "metadata": {},
   "source": [
    "<details><summary><u>Solution.</u></summary>\n",
    "<p>\n",
    "    \n",
    "```python\n",
    "\n",
    "l_subject = ['Marton', 'Robyn', 'A dog', 'A police officer']\n",
    "l_verb = ['ate', 'looked at', 'sat on']\n",
    "l_object = ['my homework', 'my lunch', 'my car keys']\n",
    "    \n",
    "random.choice(l_subject) + ' ' + random.choice(l_verb) + ' ' + random.choice(l_object) + '.' \n",
    "\n",
    "    \n",
    "```\n",
    "    \n",
    "</p>\n",
    "</details>"
   ]
  },
  {
   "cell_type": "markdown",
   "id": "8e6b82ed",
   "metadata": {},
   "source": [
    "## Iterating over a list\n",
    "\n",
    "A common reason for writing a program is to automate: the computer can rapidly perform a task many times that would take a human very long.\n",
    "\n"
   ]
  },
  {
   "cell_type": "code",
   "execution_count": null,
   "id": "3d0b49c5",
   "metadata": {},
   "outputs": [],
   "source": [
    "books = [\n",
    "    'Moby Dick (1851)',\n",
    "    'The world according to Garp (1978)',\n",
    "    'Networks: an Introduction (2018)',\n",
    "    'Portraits of Empires (2023)'\n",
    "]"
   ]
  },
  {
   "cell_type": "markdown",
   "id": "343e5443",
   "metadata": {},
   "source": [
    "Let's say you would like to print out the titles with out the year they were published:"
   ]
  },
  {
   "cell_type": "code",
   "execution_count": null,
   "id": "4e866762",
   "metadata": {},
   "outputs": [],
   "source": [
    "print(books[0][:-7])"
   ]
  },
  {
   "cell_type": "code",
   "execution_count": null,
   "id": "7c705f22",
   "metadata": {},
   "outputs": [],
   "source": [
    "print(books[0][:-7])\n",
    "print(books[1][:-7])\n",
    "print(books[2][:-7])\n",
    "print(books[3][:-7])"
   ]
  },
  {
   "cell_type": "markdown",
   "id": "e8509997",
   "metadata": {},
   "source": [
    "This runs in a jiffy. But writing the code is cumbersome:\n",
    "* Lot of copy-pasting\n",
    "* Hard to change\n",
    "* Not very readable\n",
    "\n",
    "Also, what if instead of 4 books, I have 30? Or 3 million?\n",
    "\n",
    "The solution is to use a **for loop** to iterate over the elements of a list and execute the same code for each element:"
   ]
  },
  {
   "cell_type": "code",
   "execution_count": null,
   "id": "25f1442a",
   "metadata": {},
   "outputs": [],
   "source": [
    "for book in books:\n",
    "    print(book[:-7])"
   ]
  },
  {
   "cell_type": "markdown",
   "id": "b032da25",
   "metadata": {},
   "source": [
    "We can also collect the titles in a new list for later use:"
   ]
  },
  {
   "cell_type": "code",
   "execution_count": null,
   "id": "c0f7e82c",
   "metadata": {},
   "outputs": [],
   "source": [
    "titles = []\n",
    "for book in books:\n",
    "    titles.append(book[:-7])\n",
    "titles"
   ]
  },
  {
   "cell_type": "markdown",
   "id": "a78140eb",
   "metadata": {},
   "source": [
    "#### 🔴 Exercise -- punctuation in Moby Dick\n",
    "\n",
    "What is the most common punctuation in Moby Dick? Use a `for` loop to print out the number of occurrences of the following punctuation marks: \".\", \",\", \"!\", and \"?\""
   ]
  },
  {
   "cell_type": "code",
   "execution_count": null,
   "id": "e9798e3a",
   "metadata": {},
   "outputs": [],
   "source": [
    "import requests # import package\n",
    "\n",
    "# download resource\n",
    "response = requests.get(\"https://posfaim.github.io/dnds5027/data/moby_dick-english.txt\") # this returns a special object, not a string\n",
    "moby_dick = response.text # extract the contents of the webpage into a string"
   ]
  },
  {
   "cell_type": "code",
   "execution_count": null,
   "id": "3253c125",
   "metadata": {},
   "outputs": [],
   "source": []
  },
  {
   "cell_type": "markdown",
   "id": "b4cc1818",
   "metadata": {},
   "source": [
    "<details><summary><u>Solution.</u></summary>\n",
    "<p>\n",
    "    \n",
    "```python\n",
    "for punc in [\".\", \",\", \"!\", \"?\"]:\n",
    "    count = moby_dick.count(punc)\n",
    "    print(f\"There are {count} {punc}-s in Moby Dick.\")\n",
    "```\n",
    "    \n",
    "</p>\n",
    "</details>"
   ]
  },
  {
   "cell_type": "markdown",
   "id": "4a9452ad",
   "metadata": {},
   "source": [
    "Loops greatly expand what we can do with programming and next week will be devoted to this."
   ]
  },
  {
   "cell_type": "code",
   "execution_count": null,
   "id": "495fdacf",
   "metadata": {},
   "outputs": [],
   "source": []
  }
 ],
 "metadata": {
  "language_info": {
   "name": "python",
   "pygments_lexer": "ipython3"
  }
 },
 "nbformat": 4,
 "nbformat_minor": 5
}
