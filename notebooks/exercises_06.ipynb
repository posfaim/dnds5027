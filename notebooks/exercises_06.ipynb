{
 "cells": [
  {
   "cell_type": "markdown",
   "id": "aebc9dc0",
   "metadata": {},
   "source": [
    "# Python for everyone -- 06 Loops\n",
    "## Exercises"
   ]
  },
  {
   "cell_type": "markdown",
   "id": "6057cfd4",
   "metadata": {},
   "source": [
    "#### 🔴 Even numbers\n",
    "\n",
    "Write code that prints out the even numbers between 1 and 10 (10 excluded).\n",
    "\n",
    "<details><summary><u>Hint.</u></summary>\n",
    "\n",
    "* You can check if a number is even with `if num%2==0:` \n",
    "\n",
    "</details>"
   ]
  },
  {
   "cell_type": "code",
   "execution_count": null,
   "id": "1025f2a6",
   "metadata": {},
   "outputs": [],
   "source": []
  },
  {
   "cell_type": "markdown",
   "id": "af5c920f",
   "metadata": {},
   "source": [
    "<details><summary><u>Solution.</u></summary>\n",
    "<p>\n",
    "    \n",
    "```python\n",
    "    \n",
    "for i in range(1,10):\n",
    "    if i%2==0:\n",
    "        print(i)\n",
    "        \n",
    "# alternatively you can also set the increment in range\n",
    "for i in range(2,10,2): # 2: first included, 10: first excluded, 2: increment\n",
    "    print(i)\n",
    "\n",
    "```\n",
    "    \n",
    "</p>\n",
    "</details>"
   ]
  },
  {
   "cell_type": "markdown",
   "id": "0a45ab79",
   "metadata": {},
   "source": [
    "#### 🔴 Number guessing game\n",
    "\n",
    "Write code thatgenerates a random integer between 1 and 10.\n",
    "The you have to guess the number:\n",
    "* If the guess is correct, print out \"You win!\"\n",
    "* If the guess is higher than the number, print out \"Too high!\"\n",
    "* If the guess is lower than the number, print out \"Too low!\"\n",
    "\n",
    "\n",
    "<details><summary><u>Hint.</u></summary>\n",
    "\n",
    "* Use the `while` loop.  \n",
    "* You will need to import the `random` module and use the `random.randint` function.\n",
    "</details>"
   ]
  },
  {
   "cell_type": "code",
   "execution_count": null,
   "id": "510fccc5",
   "metadata": {},
   "outputs": [],
   "source": []
  },
  {
   "cell_type": "markdown",
   "id": "93ab1dfa",
   "metadata": {},
   "source": [
    "<details><summary><u>Solution.</u></summary>\n",
    "<p>\n",
    "    \n",
    "```python\n",
    "    \n",
    "import random\n",
    "\n",
    "r = random.randint(1,10)\n",
    "\n",
    "while True:\n",
    "    guess = int(input(\"Guess the number! \"))\n",
    "    if guess > r:\n",
    "        print(\"Too high!\")\n",
    "    elif guess<r:\n",
    "        print(\"Too low!\")\n",
    "    else:\n",
    "        print(f\"You win! The number was {r}.\")\n",
    "        break\n",
    "\n",
    "```\n",
    "    \n",
    "</p>\n",
    "</details>"
   ]
  },
  {
   "cell_type": "markdown",
   "id": "a78140eb",
   "metadata": {},
   "source": [
    "#### 🔴 Exercise -- Longest string\n",
    "\n",
    "In class, you had to write code that finds the length of the longest string in the following list.\n",
    "\n",
    "Modify it, so that it also prints out the longest string itself, not just its length."
   ]
  },
  {
   "cell_type": "code",
   "execution_count": null,
   "id": "e9798e3a",
   "metadata": {},
   "outputs": [],
   "source": [
    "words = [\"Wilde\", \"mochas\", \"arcs\", \"simpers\", \"dynamically\", \"Chesterfield\", \n",
    "         \"swilling\", \"reaped\", \"jeering\", \"haler\", \"accessioned\", \"Rodger\"]\n",
    "\n",
    "m = 0\n",
    "for w in words:\n",
    "    if m < len(w):\n",
    "        m=len(w)\n",
    "m"
   ]
  },
  {
   "cell_type": "markdown",
   "id": "b4cc1818",
   "metadata": {},
   "source": [
    "<details><summary><u>Solution.</u></summary>\n",
    "<p>\n",
    "    \n",
    "```python\n",
    "m = 0\n",
    "for w in words:\n",
    "    if m < len(w):\n",
    "        m=len(w)\n",
    "        long_word = w\n",
    "m, long_word\n",
    "```\n",
    "    \n",
    "</p>\n",
    "</details>"
   ]
  },
  {
   "cell_type": "markdown",
   "id": "8bf0ffb9",
   "metadata": {},
   "source": [
    "#### 🔴 Exercise -- punctuation in Moby Dick\n",
    "\n",
    "What is the most common punctuation in Moby Dick? Use a `for` loop to print out the number of occurrences of the following punctuation marks: \".\", \",\", \"!\", and \"?\""
   ]
  },
  {
   "cell_type": "code",
   "execution_count": null,
   "id": "5a284663",
   "metadata": {},
   "outputs": [],
   "source": [
    "import requests # import package\n",
    "\n",
    "# download resource\n",
    "response = requests.get(\"https://posfaim.github.io/dnds5027/data/moby_dick-english.txt\") # this returns a special object, not a string\n",
    "moby_dick = response.text # extract the contents of the webpage into a string"
   ]
  },
  {
   "cell_type": "code",
   "execution_count": null,
   "id": "3253c125",
   "metadata": {},
   "outputs": [],
   "source": []
  },
  {
   "cell_type": "markdown",
   "id": "a0c8371f",
   "metadata": {},
   "source": [
    "<details><summary><u>Solution.</u></summary>\n",
    "<p>\n",
    "    \n",
    "```python\n",
    "for punc in [\".\", \",\", \"!\", \"?\"]:\n",
    "    count = moby_dick.count(punc)\n",
    "    print(f\"There are {count} {punc}-s in Moby Dick.\")\n",
    "```\n",
    "    \n",
    "</p>\n",
    "</details>"
   ]
  },
  {
   "cell_type": "markdown",
   "id": "6ef6ecfe",
   "metadata": {},
   "source": [
    "#### 🔴 Scores to percentages (`for` loop)\n",
    "\n",
    "You are an instructor of a course and the students write a test where the maximum score is 15. You have the student scores as a list and you would like to create a list containing what percentages they correspond to.\n",
    "\n",
    "In the first year that you teach the course, you have three students enrolled and you come up with the following solution:"
   ]
  },
  {
   "cell_type": "code",
   "execution_count": null,
   "id": "fb3f736b",
   "metadata": {},
   "outputs": [],
   "source": [
    "scores = [12, 15, 13]\n",
    "\n",
    "percentages = []\n",
    "percentages.append( scores[0]/15 )\n",
    "percentages.append( scores[1]/15 )\n",
    "percentages.append( scores[2]/15 )\n",
    "\n",
    "percentages"
   ]
  },
  {
   "cell_type": "markdown",
   "id": "376f5e54",
   "metadata": {},
   "source": [
    "The next year, your course increased in popularity and 500 students enrolled. Adapt your code to the increased class size!"
   ]
  },
  {
   "cell_type": "code",
   "execution_count": null,
   "id": "27445715",
   "metadata": {},
   "outputs": [],
   "source": [
    "scores = [ 8, 14,  6, 14,  6,  5, 13,  7,  6, 12,  8, 14,  7,  6,  8, 12,  8,\n",
    "        7,  6, 10,  9,  7,  5, 14,  8, 14,  9, 14,  7, 12, 14,  9, 10,  9,\n",
    "       12,  6, 11, 13, 13, 10,  8, 14,  6,  7,  5, 14,  7, 14, 12,  6, 11,\n",
    "        9, 10,  8, 10, 11, 11, 14,  5, 11,  5,  9, 11,  8,  7,  6,  5, 14,\n",
    "       10,  9, 12, 13, 13, 10, 11,  9,  6,  9,  5, 12,  8, 14,  8, 12,  9,\n",
    "        5, 12, 13, 14,  5, 11, 11, 13,  7,  5,  9,  6,  8, 10, 14,  9, 11,\n",
    "       12, 13, 13,  9, 13,  9, 13,  8, 11,  5,  6,  7, 11, 13, 13, 13,  5,\n",
    "        9,  7, 14,  7, 10, 10, 12, 13,  7,  9,  6,  9, 11, 11,  8,  6, 13,\n",
    "       10,  7,  8,  9, 14, 13, 13, 12, 11, 14,  7, 10,  9, 12, 10,  9,  8,\n",
    "        6,  8, 12, 12, 11, 12,  8, 10, 11, 10,  6, 10,  8,  6, 12,  8, 13,\n",
    "       14, 11,  5,  8,  7, 11, 13, 14, 10, 10,  7, 12, 10,  7, 12, 10, 14,\n",
    "        7, 14,  8,  6, 10, 10, 13, 13,  9, 11, 11, 10, 13,  9, 14, 12, 10,\n",
    "        5,  5,  8,  9,  8, 12,  5,  6, 10, 11, 13,  6,  7, 12,  8,  5,  5,\n",
    "       10, 11, 13,  8, 10, 10,  8, 14,  6, 13,  6, 12,  7, 11, 11,  5,  8,\n",
    "       14,  7,  7,  9, 14,  9, 10, 12,  8, 14, 12, 13, 13, 12,  5, 10,  9,\n",
    "        8, 13,  6,  6, 10,  7,  8, 14, 10, 12,  6, 11, 13, 12, 14, 14, 10,\n",
    "       13, 14, 13, 10, 12, 10,  5, 11, 13, 13,  7, 10,  8,  9,  9, 11,  6,\n",
    "       11,  8,  7, 11, 10,  6, 13,  8, 10, 11,  9, 11,  5,  9,  5,  7, 10,\n",
    "        9,  7, 12,  6, 12, 12,  7,  5,  8,  6, 11, 11,  9, 14, 12, 10, 14,\n",
    "       11, 11,  9,  8, 13, 12,  6,  6, 11,  9,  5, 12,  9, 10, 10,  5,  6,\n",
    "       10, 14,  8,  6, 14, 11, 13, 13, 10, 12, 11, 12,  9, 12, 14,  8, 10,\n",
    "       14, 11, 10, 14,  8,  8,  8,  6,  7, 14,  5,  7, 13,  9,  8, 10, 11,\n",
    "        5, 13, 11,  9,  6,  6,  8,  6, 12,  8,  6,  5,  9,  5, 10, 13, 14,\n",
    "       13,  6, 12,  9,  9,  5,  5,  9, 13,  8, 14, 14,  7,  6,  7,  7, 13,\n",
    "       10,  9,  7,  5,  5, 14,  8, 11,  6, 10, 11, 10,  5,  5, 10,  8, 13,\n",
    "       13,  8, 13, 10,  8, 10, 12, 11, 14, 13, 10, 13,  5, 10,  5,  8,  5,\n",
    "       11, 10,  6, 14,  6, 14, 10, 10,  5, 11,  5,  5, 14,  5, 14, 12, 11,\n",
    "        8,  6, 14,  5, 13, 14,  5,  6,  9,  6, 10,  8,  8, 10, 12, 11,  5,\n",
    "       14, 11,  7, 13, 13,  8, 10,  6, 10, 11, 14,  5, 13,  6, 11,  5,  6,\n",
    "       12, 13, 10,  6,  7, 14,  8]"
   ]
  },
  {
   "cell_type": "code",
   "execution_count": null,
   "id": "9960f4c8",
   "metadata": {},
   "outputs": [],
   "source": []
  },
  {
   "cell_type": "markdown",
   "id": "8dc60341",
   "metadata": {},
   "source": [
    "<details><summary><u>Solution.</u></summary>\n",
    "<p>\n",
    "    \n",
    "```python  \n",
    "percentages = []\n",
    "for score in scores:\n",
    "    percentages.append(score/15)\n",
    "    \n",
    "percentages[:10], len(percentages) # as a sanity check, we check if percentages has the expected number of elements\n",
    "```\n",
    "    \n",
    "</p>\n",
    "</details>"
   ]
  },
  {
   "cell_type": "markdown",
   "id": "3dbe6590",
   "metadata": {},
   "source": [
    "#### 🔴 Exercise -- Fix the code\n",
    "\n",
    "Fix the code snipets below.\n",
    "\n",
    "a) The code below should count from 1 to 10."
   ]
  },
  {
   "cell_type": "code",
   "execution_count": null,
   "id": "f61e4bec",
   "metadata": {},
   "outputs": [],
   "source": [
    "j = 1\n",
    "while j>=10:\n",
    "    print(j)\n",
    "    j+=1"
   ]
  },
  {
   "cell_type": "markdown",
   "id": "7a0d466b",
   "metadata": {},
   "source": [
    "<details><summary><u>Solution.</u></summary>\n",
    "<p>\n",
    "    \n",
    "```python\n",
    "j = 1\n",
    "while j<=10: # the mistake was here.\n",
    "    print(j)\n",
    "    j+=1\n",
    "```\n",
    "    \n",
    "</p>\n",
    "</details>"
   ]
  },
  {
   "cell_type": "markdown",
   "id": "5767d637",
   "metadata": {},
   "source": [
    "b) The code below should find the minimum in the list."
   ]
  },
  {
   "cell_type": "code",
   "execution_count": null,
   "id": "e5770ad2",
   "metadata": {},
   "outputs": [],
   "source": [
    "nums = [1,2,45,9,10]\n",
    "minimum = 0\n",
    "for num in nums:\n",
    "    if nums<minimum:\n",
    "        minimum=num\n",
    "minimum"
   ]
  },
  {
   "cell_type": "markdown",
   "id": "8b5ad902",
   "metadata": {},
   "source": [
    "<details><summary><u>Solution.</u></summary>\n",
    "<p>\n",
    "    \n",
    "```python\n",
    "minimum = nums[0] # setting the initial value to 0 does not work, because 0 is smaller than the minimum in the list\n",
    "for num in nums:\n",
    "    if num<minimum: # we have to compare to num not nums \n",
    "        minimum=num\n",
    "minimum\n",
    "```\n",
    "    \n",
    "</p>\n",
    "</details>"
   ]
  },
  {
   "cell_type": "markdown",
   "id": "69792abf",
   "metadata": {},
   "source": [
    "c) The code below should print out pairs of numbers that sum to 10"
   ]
  },
  {
   "cell_type": "code",
   "execution_count": null,
   "id": "558e551f",
   "metadata": {},
   "outputs": [],
   "source": [
    "for i in range(11):\n",
    "    for i in range(11):\n",
    "        if i+j==10:\n",
    "            print(i,j)"
   ]
  },
  {
   "cell_type": "markdown",
   "id": "2339cf9b",
   "metadata": {},
   "source": [
    "<details><summary><u>Solution.</u></summary>\n",
    "<p>\n",
    "    \n",
    "```python\n",
    "for i in range(11):\n",
    "    for j in range(11): # iteration variable should be differnt\n",
    "        if i+j==10: # i+j instead of i+i\n",
    "            print(i,j)\n",
    "```\n",
    "    \n",
    "</p>\n",
    "</details>"
   ]
  },
  {
   "cell_type": "markdown",
   "id": "ed738d15",
   "metadata": {},
   "source": [
    "#### 🔴 Exercise -- Nested loops\n",
    "\n",
    "The following list of list contains bird observations for different days. Print out the\n",
    "\n",
    "<details><summary><u>Hint.</u></summary>\n",
    "\n",
    "* Start with an empty list `unique_obs = []` and append a bird, if it is not yet in `unique_obs` \n",
    "* To check if a list `L` contains `x` as an element use\n",
    "```python\n",
    "if x in L:\n",
    "```\n",
    "To check if it doesn't contain `x`:\n",
    "```python\n",
    "if not (x in L):\n",
    "```\n",
    "or\n",
    "```python\n",
    "if x not in L:\n",
    "```\n",
    "</details>"
   ]
  },
  {
   "cell_type": "code",
   "execution_count": null,
   "id": "8d52cab0",
   "metadata": {},
   "outputs": [],
   "source": [
    "observations = [\n",
    "    [\"Gila woodpecker\", \"Marbled murrelet\", \"White-crowned sparrow\"],\n",
    "    [\"White-crowned sparrow\", \"Red-winged blackbird\", \"Steller's jay\", \"Scrub jay\"],\n",
    "    [\"Scrub jay\", \"Anna's hummingbird\", \"White-crowned sparrow\"]\n",
    "]\n"
   ]
  },
  {
   "cell_type": "markdown",
   "id": "9c3880b7",
   "metadata": {},
   "source": [
    "<details><summary><u>Solution.</u></summary>\n",
    "<p>\n",
    "    \n",
    "```python\n",
    "unique_obs = []\n",
    "for day in observations:\n",
    "    for bird in day:\n",
    "        if bird not in unique_obs:\n",
    "            unique_obs.append(bird)\n",
    "unique_obs\n",
    "```\n",
    "    \n",
    "</p>\n",
    "</details>"
   ]
  },
  {
   "cell_type": "markdown",
   "id": "fc18b1c1",
   "metadata": {},
   "source": [
    "## Homework\n",
    "\n",
    "🔴 AM/PM again\n",
    "\n",
    "You get a list of timestamps containing the time of the day in the AM/PM format. Convert the timestamps to the 24-hour format and store them in a new list.\n",
    "\n",
    "For example,\n",
    "```\n",
    "[\"11:12 AM\", \"02:30 PM\", \"02:12 AM\"] -> [\"11:12\", \"14:30\", \"2:12\"]\n",
    "```\n",
    "(For the last one, `\"02:12 AM\" - > \"02:12\"` is also ok.)\n",
    "\n",
    "Remember: functions are useful for re-using code. You are encouraged to re-use the function that you wrote for last week's homework."
   ]
  },
  {
   "cell_type": "code",
   "execution_count": null,
   "id": "88f12244",
   "metadata": {},
   "outputs": [],
   "source": [
    "timestamps = ['05:11 PM', '10:35 PM', '01:02 PM', '02:48 AM', '08:57 PM', \n",
    "              '10:16 PM', '01:31 PM', '04:56 PM', '03:20 AM', '09:25 PM',\n",
    "              '02:26 AM', '06:19 PM', '01:55 PM', '07:00 PM', '04:17 PM',\n",
    "              '04:14 AM', '10:19 AM', '03:25 PM', '05:50 AM', '04:21 AM']\n",
    "\n"
   ]
  },
  {
   "cell_type": "code",
   "execution_count": null,
   "id": "a8291590",
   "metadata": {},
   "outputs": [],
   "source": []
  }
 ],
 "metadata": {
  "language_info": {
   "name": "python",
   "pygments_lexer": "ipython3"
  }
 },
 "nbformat": 4,
 "nbformat_minor": 5
}
