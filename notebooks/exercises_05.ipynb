{
 "cells": [
  {
   "cell_type": "markdown",
   "id": "aebc9dc0",
   "metadata": {},
   "source": [
    "# Python for everyone -- 05 Lists\n",
    "## Exercises"
   ]
  },
  {
   "cell_type": "markdown",
   "id": "45b4546c",
   "metadata": {},
   "source": [
    "#### 🔴 List -- accessing elements\n",
    "\n",
    "From the following list"
   ]
  },
  {
   "cell_type": "code",
   "execution_count": null,
   "id": "ada6f5e1",
   "metadata": {},
   "outputs": [],
   "source": [
    "L = [0, 1, 12, ['a', 'hello']]"
   ]
  },
  {
   "cell_type": "markdown",
   "id": "5f2c2457",
   "metadata": {},
   "source": [
    "Write code that grabs the value `0`"
   ]
  },
  {
   "cell_type": "code",
   "execution_count": null,
   "id": "982ddada",
   "metadata": {},
   "outputs": [],
   "source": []
  },
  {
   "cell_type": "markdown",
   "id": "42cdafe8",
   "metadata": {},
   "source": [
    "<details><summary><u>Solution.</u></summary>\n",
    "<p>\n",
    "    \n",
    "```python\n",
    "    \n",
    "L[0]\n",
    "\n",
    "```\n",
    "    \n",
    "</p>\n",
    "</details>"
   ]
  },
  {
   "cell_type": "markdown",
   "id": "182e60c2",
   "metadata": {},
   "source": [
    "Write code that accesses the value `12`"
   ]
  },
  {
   "cell_type": "code",
   "execution_count": null,
   "id": "bebbf624",
   "metadata": {},
   "outputs": [],
   "source": []
  },
  {
   "cell_type": "markdown",
   "id": "12f85194",
   "metadata": {},
   "source": [
    "<details><summary><u>Solution.</u></summary>\n",
    "<p>\n",
    "    \n",
    "```python\n",
    "    \n",
    "L[2]\n",
    "\n",
    "```\n",
    "    \n",
    "</p>\n",
    "</details>"
   ]
  },
  {
   "cell_type": "markdown",
   "id": "7a878651",
   "metadata": {},
   "source": [
    "Write code that accesses the value `a`"
   ]
  },
  {
   "cell_type": "code",
   "execution_count": null,
   "id": "258244e0",
   "metadata": {},
   "outputs": [],
   "source": []
  },
  {
   "cell_type": "markdown",
   "id": "8f71aa74",
   "metadata": {},
   "source": [
    "<details><summary><u>Solution.</u></summary>\n",
    "<p>\n",
    "    \n",
    "```python\n",
    "    \n",
    "L[3][0]\n",
    "    \n",
    "```\n",
    "    \n",
    "</p>\n",
    "</details>"
   ]
  },
  {
   "cell_type": "markdown",
   "id": "25abb1a6",
   "metadata": {},
   "source": [
    "Write code that accesses the value `e`"
   ]
  },
  {
   "cell_type": "code",
   "execution_count": null,
   "id": "d8f35d72",
   "metadata": {},
   "outputs": [],
   "source": []
  },
  {
   "cell_type": "markdown",
   "id": "21654289",
   "metadata": {},
   "source": [
    "<details><summary><u>Solution.</u></summary>\n",
    "<p>\n",
    "    \n",
    "```python\n",
    "    \n",
    "L[3][1][1]\n",
    "\n",
    "```\n",
    "    \n",
    "</p>\n",
    "</details>"
   ]
  },
  {
   "cell_type": "markdown",
   "id": "6057cfd4",
   "metadata": {},
   "source": [
    "#### 🔴 Cheating with dice\n",
    "\n",
    "Import the `random` module, and using a list and the `random.choice` function write code that simulates a biased die:\n",
    "* It returns a random number between 1 and 6\n",
    "* The chance of returning 6 is twice the chance of returning other numbers\n",
    "\n",
    "<details><summary><u>Hint.</u></summary>\n",
    "<p>\n",
    "\n",
    "The function call `random.choice(L)` returns a random element of the list `L` with equal probability. To double the chance of picking the element `6` add another copy of 6 to `L`, i.e., so that `L` contains `6` twice.\n",
    "    \n",
    "</p>\n",
    "</details>"
   ]
  },
  {
   "cell_type": "code",
   "execution_count": null,
   "id": "1025f2a6",
   "metadata": {},
   "outputs": [],
   "source": []
  },
  {
   "cell_type": "markdown",
   "id": "af5c920f",
   "metadata": {},
   "source": [
    "<details><summary><u>Solution.</u></summary>\n",
    "<p>\n",
    "    \n",
    "```python\n",
    "    \n",
    "import random\n",
    "\n",
    "def biased_die():\n",
    "    L_outcomes = [1,2,3,4,5,6,6]\n",
    "    \n",
    "    throw = random.choice(L_outcomes)\n",
    "    \n",
    "    return throw\n",
    "    \n",
    "biased_die()\n",
    "\n",
    "```\n",
    "    \n",
    "</p>\n",
    "</details>"
   ]
  },
  {
   "cell_type": "markdown",
   "id": "55b1b934",
   "metadata": {},
   "source": [
    "#### 🔴 Test scores\n",
    "\n",
    "The following list contains the results of a test. A student receives an A, if their score is above 94, write code that prints out `\"Someone got an A\"`, if there is at least one student, who got an A. Print out `\"There are no As\"` otherwise."
   ]
  },
  {
   "cell_type": "code",
   "execution_count": null,
   "id": "80a64cfd",
   "metadata": {},
   "outputs": [],
   "source": []
  },
  {
   "cell_type": "markdown",
   "id": "a99ca6cd",
   "metadata": {},
   "source": [
    "<details><summary><u>Solution.</u></summary>\n",
    "<p>\n",
    "    \n",
    "```python\n",
    "    \n",
    "test_scores = [74, 51, 52, 53, 62, 86, 55, 72, 92, 92, 51, 74, 60, 65, 93, 68, 89, 54, 92, 85]\n",
    "\n",
    "max_score = max(test_scores)\n",
    "\n",
    "if max_score>94:\n",
    "    print(\"Someone got an A\")\n",
    "else:\n",
    "    print(\"There are no As\")\n",
    "\n",
    "```\n",
    "    \n",
    "</p>\n",
    "</details>"
   ]
  },
  {
   "cell_type": "markdown",
   "id": "e92dbaa4",
   "metadata": {},
   "source": [
    "#### 🔴 Top three\n",
    "\n",
    "Using again the list of scores, print out the top three scores.\n",
    "\n",
    "<details><summary><u>Hint.</u></summary>\n",
    "<p>\n",
    "\n",
    "Use the `.sort()` method to put the scores in order, than use slicing to get the top three.\n",
    "    \n",
    "</p>\n",
    "</details>"
   ]
  },
  {
   "cell_type": "code",
   "execution_count": null,
   "id": "42417ef4",
   "metadata": {},
   "outputs": [],
   "source": []
  },
  {
   "cell_type": "markdown",
   "id": "6ffce53c",
   "metadata": {},
   "source": [
    "<details><summary><u>Solution.</u></summary>\n",
    "<p>\n",
    "    \n",
    "```python\n",
    "    \n",
    "# Solution 1\n",
    "\n",
    "test_scores.sort()\n",
    "print(test_scores[-3:])\n",
    "\n",
    "#Solution 2\n",
    "\n",
    "test_scores.sort(reverse=True)\n",
    "print(test_scores[:3])\n",
    "\n",
    "```\n",
    "    \n",
    "</p>\n",
    "</details>"
   ]
  },
  {
   "cell_type": "markdown",
   "id": "1584d63f",
   "metadata": {},
   "source": [
    "#### 🔴 Change value\n",
    "\n",
    "You can change the values in a list (in other words, lists mutable). Write code that asks the user for an index `i` and a value `v`, then change the element of the following list at index `i` to `v`.\n",
    "\n",
    "<details><summary><u>Hint.</u></summary>\n",
    "<p>\n",
    "\n",
    "Use the `.sort()` method to put the scores in order, than use slicing to get the top three.\n",
    "    \n",
    "</p>\n",
    "</details>"
   ]
  },
  {
   "cell_type": "code",
   "execution_count": null,
   "id": "75a1c1c6",
   "metadata": {},
   "outputs": [],
   "source": [
    "fruits = ['apple', 'orange', 'pineapple', 'watermelon', 'strawberry']\n",
    "\n"
   ]
  },
  {
   "cell_type": "markdown",
   "id": "643f087c",
   "metadata": {},
   "source": [
    "<details><summary><u>Solution.</u></summary>\n",
    "<p>\n",
    "    \n",
    "```python  \n",
    "i = int(input(\"Enter an index\"))\n",
    "v = input(\"Enter a fruit\")\n",
    "\n",
    "fruits[i]=v\n",
    "fruits\n",
    "```\n",
    "    \n",
    "</p>\n",
    "</details>"
   ]
  },
  {
   "cell_type": "markdown",
   "id": "d34b4bf0",
   "metadata": {},
   "source": [
    "#### 🔴 Fruit inventory\n",
    "\n",
    "You are selling fruits at a high-tech fruitstand. Ask the custumers to enter a type of fruit and check if it is the inventory. If it is in the inventory, print out \"You are in luck!\". Otherwise print out \"We are fresh out.\"\n"
   ]
  },
  {
   "cell_type": "code",
   "execution_count": null,
   "id": "7853a4ef",
   "metadata": {},
   "outputs": [],
   "source": [
    "inventory = ['apple', 'orange', 'pineapple', 'watermelon', 'strawberry']\n"
   ]
  },
  {
   "cell_type": "markdown",
   "id": "7c30c432",
   "metadata": {},
   "source": [
    "<details><summary><u>Solution.</u></summary>\n",
    "<p>\n",
    "    \n",
    "```python  \n",
    "\n",
    "fruit = input(\"Enter fruit\")\n",
    "\n",
    "if fruit in inventory:\n",
    "    print(\"You are in luck!\")\n",
    "else:\n",
    "    print(\"We are fresh out.\")\n",
    "```\n",
    "    \n",
    "</p>\n",
    "</details>"
   ]
  },
  {
   "cell_type": "code",
   "execution_count": null,
   "id": "16ba1d4e",
   "metadata": {},
   "outputs": [],
   "source": []
  }
 ],
 "metadata": {
  "language_info": {
   "name": "python",
   "pygments_lexer": "ipython3"
  }
 },
 "nbformat": 4,
 "nbformat_minor": 5
}
