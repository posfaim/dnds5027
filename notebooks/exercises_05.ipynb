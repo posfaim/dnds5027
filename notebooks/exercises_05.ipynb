{
 "cells": [
  {
   "cell_type": "markdown",
   "id": "aebc9dc0",
   "metadata": {},
   "source": [
    "# Python for everyone -- 05 Lists\n",
    "## Exercises"
   ]
  },
  {
   "cell_type": "markdown",
   "id": "45b4546c",
   "metadata": {},
   "source": [
    "#### 🔴 List -- accessing elements\n",
    "\n",
    "From the following list"
   ]
  },
  {
   "cell_type": "code",
   "execution_count": null,
   "id": "ada6f5e1",
   "metadata": {},
   "outputs": [],
   "source": [
    "L = [0, 1, 12, ['a', 'hello']]"
   ]
  },
  {
   "cell_type": "markdown",
   "id": "5f2c2457",
   "metadata": {},
   "source": [
    "Write code that accesses the value `0`"
   ]
  },
  {
   "cell_type": "code",
   "execution_count": null,
   "id": "982ddada",
   "metadata": {},
   "outputs": [],
   "source": []
  },
  {
   "cell_type": "markdown",
   "id": "42cdafe8",
   "metadata": {},
   "source": [
    "<details><summary><u>Solution.</u></summary>\n",
    "<p>\n",
    "    \n",
    "```python\n",
    "    \n",
    "L[0]\n",
    "\n",
    "```\n",
    "    \n",
    "</p>\n",
    "</details>"
   ]
  },
  {
   "cell_type": "markdown",
   "id": "182e60c2",
   "metadata": {},
   "source": [
    "Write code that accesses the value `12`"
   ]
  },
  {
   "cell_type": "code",
   "execution_count": null,
   "id": "bebbf624",
   "metadata": {},
   "outputs": [],
   "source": []
  },
  {
   "cell_type": "markdown",
   "id": "12f85194",
   "metadata": {},
   "source": [
    "<details><summary><u>Solution.</u></summary>\n",
    "<p>\n",
    "    \n",
    "```python\n",
    "    \n",
    "L[2]\n",
    "\n",
    "```\n",
    "    \n",
    "</p>\n",
    "</details>"
   ]
  },
  {
   "cell_type": "markdown",
   "id": "7a878651",
   "metadata": {},
   "source": [
    "Write code that accesses the value `a`"
   ]
  },
  {
   "cell_type": "code",
   "execution_count": null,
   "id": "258244e0",
   "metadata": {},
   "outputs": [],
   "source": []
  },
  {
   "cell_type": "markdown",
   "id": "8f71aa74",
   "metadata": {},
   "source": [
    "<details><summary><u>Solution.</u></summary>\n",
    "<p>\n",
    "    \n",
    "```python\n",
    "    \n",
    "L[3][0]\n",
    "    \n",
    "```\n",
    "    \n",
    "</p>\n",
    "</details>"
   ]
  },
  {
   "cell_type": "markdown",
   "id": "25abb1a6",
   "metadata": {},
   "source": [
    "Write code that accesses the value `e`"
   ]
  },
  {
   "cell_type": "code",
   "execution_count": null,
   "id": "d8f35d72",
   "metadata": {},
   "outputs": [],
   "source": []
  },
  {
   "cell_type": "markdown",
   "id": "21654289",
   "metadata": {},
   "source": [
    "<details><summary><u>Solution.</u></summary>\n",
    "<p>\n",
    "    \n",
    "```python\n",
    "    \n",
    "L[3][1][1]\n",
    "\n",
    "```\n",
    "    \n",
    "</p>\n",
    "</details>"
   ]
  },
  {
   "cell_type": "markdown",
   "id": "6057cfd4",
   "metadata": {},
   "source": [
    "#### 🔴 Cheating with dice\n",
    "\n",
    "Import the `random` module, and using a list and the `random.choice` function write code that simulates a biased die:\n",
    "* It returns a random number between 1 and 6\n",
    "* The chance of returning 6 is twice the chance of returning other numbers\n",
    "\n",
    "<details><summary><u>Hint.</u></summary>\n",
    "<p>\n",
    "\n",
    "The function call `random.choice(L)` returns a random element of the list `L` with equal probability. To double the chance of picking the element `6` add another copy of 6 to `L`, i.e., so that `L` contains `6` twice.\n",
    "    \n",
    "</p>\n",
    "</details>"
   ]
  },
  {
   "cell_type": "code",
   "execution_count": null,
   "id": "1025f2a6",
   "metadata": {},
   "outputs": [],
   "source": []
  },
  {
   "cell_type": "markdown",
   "id": "af5c920f",
   "metadata": {},
   "source": [
    "<details><summary><u>Solution.</u></summary>\n",
    "<p>\n",
    "    \n",
    "```python\n",
    "    \n",
    "import random\n",
    "\n",
    "def biased_die():\n",
    "    L_outcomes = [1,2,3,4,5,6,6]\n",
    "    \n",
    "    throw = random.choice(L_outcomes)\n",
    "    \n",
    "    return throw\n",
    "    \n",
    "biased_die()\n",
    "\n",
    "```\n",
    "    \n",
    "</p>\n",
    "</details>"
   ]
  },
  {
   "cell_type": "markdown",
   "id": "070661a0",
   "metadata": {},
   "source": [
    "#### 🔴 Test scores\n",
    "\n",
    "The following list contains the results of a test. A student receives an A, if their score is above 94, write code that prints out `\"Someone got an A\"`, if there is at least one student, who got an A. Print out `\"There are no As\"` otherwise."
   ]
  },
  {
   "cell_type": "code",
   "execution_count": null,
   "id": "80a64cfd",
   "metadata": {},
   "outputs": [],
   "source": [
    "test_scores = [74, 51, 52, 53, 62, 86, 55, 72, 92, 92, 51, 74, 60, 65, 93, 68, 89, 54, 92, 85]\n"
   ]
  },
  {
   "cell_type": "markdown",
   "id": "96ea78f9",
   "metadata": {},
   "source": [
    "<details><summary><u>Solution.</u></summary>\n",
    "<p>\n",
    "    \n",
    "```python\n",
    "    \n",
    "max_score = max(test_scores)\n",
    "\n",
    "if max_score>94:\n",
    "    print(\"Someone got an A\")\n",
    "else:\n",
    "    print(\"There are no As\")\n",
    "\n",
    "```\n",
    "    \n",
    "</p>\n",
    "</details>"
   ]
  },
  {
   "cell_type": "markdown",
   "id": "5c0b8fdd",
   "metadata": {},
   "source": [
    "#### 🔴 Top three\n",
    "\n",
    "Using again the list of scores, print out the top three scores.\n",
    "\n",
    "<details><summary><u>Hint.</u></summary>\n",
    "<p>\n",
    "\n",
    "Use the `.sort()` method to put the scores in order, than use slicing to get the top three.\n",
    "    \n",
    "</p>\n",
    "</details>"
   ]
  },
  {
   "cell_type": "code",
   "execution_count": null,
   "id": "8ed1d07f",
   "metadata": {},
   "outputs": [],
   "source": []
  },
  {
   "cell_type": "markdown",
   "id": "47b71351",
   "metadata": {},
   "source": [
    "<details><summary><u>Solution.</u></summary>\n",
    "<p>\n",
    "    \n",
    "```python\n",
    "    \n",
    "# Solution 1\n",
    "\n",
    "test_scores.sort()\n",
    "print(test_scores[-3:])\n",
    "\n",
    "#Solution 2\n",
    "\n",
    "test_scores.sort(reverse=True)\n",
    "print(test_scores[:3])\n",
    "\n",
    "```\n",
    "    \n",
    "</p>\n",
    "</details>"
   ]
  },
  {
   "cell_type": "markdown",
   "id": "8483e5ab",
   "metadata": {},
   "source": [
    "#### 🔴 Change value\n",
    "\n",
    "You can change the values in a list (in other words, lists mutable). Write code that asks the user for an index `i` and a value `v`, then change the element of the following list at index `i` to `v`.\n",
    "\n",
    "<details><summary><u>Hint.</u></summary>\n",
    "<p>\n",
    "\n",
    "Use the `.sort()` method to put the scores in order, than use slicing to get the top three.\n",
    "    \n",
    "</p>\n",
    "</details>"
   ]
  },
  {
   "cell_type": "code",
   "execution_count": null,
   "id": "5fd80291",
   "metadata": {},
   "outputs": [],
   "source": [
    "fruits = ['apple', 'orange', 'pineapple', 'watermelon', 'strawberry']\n",
    "\n"
   ]
  },
  {
   "cell_type": "markdown",
   "id": "1d92c5ac",
   "metadata": {},
   "source": [
    "<details><summary><u>Solution.</u></summary>\n",
    "<p>\n",
    "    \n",
    "```python  \n",
    "i = int(input(\"Enter an index\"))\n",
    "v = input(\"Enter a fruit\")\n",
    "\n",
    "fruits[i]=v\n",
    "fruits\n",
    "```\n",
    "    \n",
    "</p>\n",
    "</details>"
   ]
  },
  {
   "cell_type": "markdown",
   "id": "8a2361f4",
   "metadata": {},
   "source": [
    "#### 🔴 Fruit inventory\n",
    "\n",
    "You are selling fruits at a high-tech fruitstand. Ask the custumers to enter a type of fruit and check if it is the inventory. If it is in the inventory, print out \"You are in luck!\". Otherwise print out \"We are fresh out.\"\n"
   ]
  },
  {
   "cell_type": "code",
   "execution_count": null,
   "id": "158eaadc",
   "metadata": {},
   "outputs": [],
   "source": [
    "inventory = ['apple', 'orange', 'pineapple', 'watermelon', 'strawberry']\n"
   ]
  },
  {
   "cell_type": "markdown",
   "id": "332bb4c9",
   "metadata": {},
   "source": [
    "<details><summary><u>Solution.</u></summary>\n",
    "<p>\n",
    "    \n",
    "```python  \n",
    "\n",
    "fruit = input(\"Enter fruit\")\n",
    "\n",
    "if fruit in inventory:\n",
    "    print(\"You are in luck!\")\n",
    "else:\n",
    "    print(\"We are fresh out.\")\n",
    "```\n",
    "    \n",
    "</p>\n",
    "</details>"
   ]
  },
  {
   "cell_type": "markdown",
   "id": "6ef6ecfe",
   "metadata": {},
   "source": [
    "#### 🔴 Scores to percentages (`for` loop)\n",
    "\n",
    "You are an instructor of a course and the students write a test where the maximum score is 15. You have the student scores as a list and you would like to create a list containing what percentages they correspond to.\n",
    "\n",
    "In the first year that you teach the course, you have three students enrolled and you come up with the following solution:"
   ]
  },
  {
   "cell_type": "code",
   "execution_count": null,
   "id": "fb3f736b",
   "metadata": {},
   "outputs": [],
   "source": [
    "scores = [12, 15, 13]\n",
    "\n",
    "percentages = []\n",
    "percentages.append( scores[0]/15 )\n",
    "percentages.append( scores[1]/15 )\n",
    "percentages.append( scores[2]/15 )\n",
    "\n",
    "percentages"
   ]
  },
  {
   "cell_type": "markdown",
   "id": "376f5e54",
   "metadata": {},
   "source": [
    "The next year, your course increased in popularity and 500 students enrolled. Adapt your code to the increased class size!"
   ]
  },
  {
   "cell_type": "code",
   "execution_count": null,
   "id": "27445715",
   "metadata": {},
   "outputs": [],
   "source": [
    "scores = [ 8, 14,  6, 14,  6,  5, 13,  7,  6, 12,  8, 14,  7,  6,  8, 12,  8,\n",
    "        7,  6, 10,  9,  7,  5, 14,  8, 14,  9, 14,  7, 12, 14,  9, 10,  9,\n",
    "       12,  6, 11, 13, 13, 10,  8, 14,  6,  7,  5, 14,  7, 14, 12,  6, 11,\n",
    "        9, 10,  8, 10, 11, 11, 14,  5, 11,  5,  9, 11,  8,  7,  6,  5, 14,\n",
    "       10,  9, 12, 13, 13, 10, 11,  9,  6,  9,  5, 12,  8, 14,  8, 12,  9,\n",
    "        5, 12, 13, 14,  5, 11, 11, 13,  7,  5,  9,  6,  8, 10, 14,  9, 11,\n",
    "       12, 13, 13,  9, 13,  9, 13,  8, 11,  5,  6,  7, 11, 13, 13, 13,  5,\n",
    "        9,  7, 14,  7, 10, 10, 12, 13,  7,  9,  6,  9, 11, 11,  8,  6, 13,\n",
    "       10,  7,  8,  9, 14, 13, 13, 12, 11, 14,  7, 10,  9, 12, 10,  9,  8,\n",
    "        6,  8, 12, 12, 11, 12,  8, 10, 11, 10,  6, 10,  8,  6, 12,  8, 13,\n",
    "       14, 11,  5,  8,  7, 11, 13, 14, 10, 10,  7, 12, 10,  7, 12, 10, 14,\n",
    "        7, 14,  8,  6, 10, 10, 13, 13,  9, 11, 11, 10, 13,  9, 14, 12, 10,\n",
    "        5,  5,  8,  9,  8, 12,  5,  6, 10, 11, 13,  6,  7, 12,  8,  5,  5,\n",
    "       10, 11, 13,  8, 10, 10,  8, 14,  6, 13,  6, 12,  7, 11, 11,  5,  8,\n",
    "       14,  7,  7,  9, 14,  9, 10, 12,  8, 14, 12, 13, 13, 12,  5, 10,  9,\n",
    "        8, 13,  6,  6, 10,  7,  8, 14, 10, 12,  6, 11, 13, 12, 14, 14, 10,\n",
    "       13, 14, 13, 10, 12, 10,  5, 11, 13, 13,  7, 10,  8,  9,  9, 11,  6,\n",
    "       11,  8,  7, 11, 10,  6, 13,  8, 10, 11,  9, 11,  5,  9,  5,  7, 10,\n",
    "        9,  7, 12,  6, 12, 12,  7,  5,  8,  6, 11, 11,  9, 14, 12, 10, 14,\n",
    "       11, 11,  9,  8, 13, 12,  6,  6, 11,  9,  5, 12,  9, 10, 10,  5,  6,\n",
    "       10, 14,  8,  6, 14, 11, 13, 13, 10, 12, 11, 12,  9, 12, 14,  8, 10,\n",
    "       14, 11, 10, 14,  8,  8,  8,  6,  7, 14,  5,  7, 13,  9,  8, 10, 11,\n",
    "        5, 13, 11,  9,  6,  6,  8,  6, 12,  8,  6,  5,  9,  5, 10, 13, 14,\n",
    "       13,  6, 12,  9,  9,  5,  5,  9, 13,  8, 14, 14,  7,  6,  7,  7, 13,\n",
    "       10,  9,  7,  5,  5, 14,  8, 11,  6, 10, 11, 10,  5,  5, 10,  8, 13,\n",
    "       13,  8, 13, 10,  8, 10, 12, 11, 14, 13, 10, 13,  5, 10,  5,  8,  5,\n",
    "       11, 10,  6, 14,  6, 14, 10, 10,  5, 11,  5,  5, 14,  5, 14, 12, 11,\n",
    "        8,  6, 14,  5, 13, 14,  5,  6,  9,  6, 10,  8,  8, 10, 12, 11,  5,\n",
    "       14, 11,  7, 13, 13,  8, 10,  6, 10, 11, 14,  5, 13,  6, 11,  5,  6,\n",
    "       12, 13, 10,  6,  7, 14,  8]"
   ]
  },
  {
   "cell_type": "code",
   "execution_count": null,
   "id": "9960f4c8",
   "metadata": {},
   "outputs": [],
   "source": []
  },
  {
   "cell_type": "markdown",
   "id": "8dc60341",
   "metadata": {},
   "source": [
    "<details><summary><u>Solution.</u></summary>\n",
    "<p>\n",
    "    \n",
    "```python  \n",
    "percentages = []\n",
    "for score in scores:\n",
    "    percentages.append(score/15)\n",
    "    \n",
    "percentages[:10], len(percentages) # as a sanity check, we check if percentages has the expected number of elements\n",
    "```\n",
    "    \n",
    "</p>\n",
    "</details>"
   ]
  },
  {
   "cell_type": "markdown",
   "id": "ab4c8649",
   "metadata": {},
   "source": [
    "#### 🔴 More scores\n",
    "\n",
    "Using the list of scores above, answer the following questions:\n",
    "* What was the maximum score?\n",
    "* What was the minimum score?\n",
    "* Did more people get maximum score than minimum?"
   ]
  },
  {
   "cell_type": "code",
   "execution_count": null,
   "id": "53ca9b00",
   "metadata": {},
   "outputs": [],
   "source": []
  },
  {
   "cell_type": "markdown",
   "id": "8fca1810",
   "metadata": {},
   "source": [
    "<details><summary><u>Solution.</u></summary>\n",
    "<p>\n",
    "    \n",
    "```python  \n",
    "max_score = max(scores)\n",
    "min_score = min(scores)\n",
    "print(f\"The maximum score on the test was {max_score} and the minimum was {min_score}.\")\n",
    "\n",
    "count_max = scores.count(max_score)\n",
    "count_min = scores.count(min_score)\n",
    "print(count_max, count_min) # not part of the task, just to make sure the results are correct\n",
    "\n",
    "if count_max>count_min:\n",
    "    print(f\"More students got {max_score} points than {min_score}.\")\n",
    "elif count_max<count_min:\n",
    "    print(f\"More students got {min_score} points than {max_score}.\")\n",
    "else:\n",
    "    print(f\"The same number of students got {min_score} and {max_score} points.\")\n",
    "```\n",
    "    \n",
    "</p>\n",
    "</details>"
   ]
  },
  {
   "cell_type": "markdown",
   "id": "fc18b1c1",
   "metadata": {},
   "source": [
    "## Homework\n",
    "\n",
    "🔴 AM/PM again\n",
    "\n",
    "You get a list of timestamps containing the time of the day in the AM/PM format. Convert the timestamps to the 24-hour format and store them in a new list.\n",
    "\n",
    "For example,\n",
    "```\n",
    "[\"11:12 AM\", \"02:30 PM\", \"02:12 AM\"] -> [\"11:12\", \"14:30\", \"2:12\"]\n",
    "```\n",
    "(For the last one, `\"02:12 AM\" - > \"02:12\"` is also ok.)\n",
    "\n",
    "Remember: functions are useful for re-using code. You are encouraged to re-use the function that you wrote for last week's homework."
   ]
  },
  {
   "cell_type": "code",
   "execution_count": null,
   "id": "88f12244",
   "metadata": {},
   "outputs": [],
   "source": [
    "timestamps = ['05:11 PM', '10:35 PM', '01:02 PM', '02:48 AM', '08:57 PM', \n",
    "              '10:16 PM', '01:31 PM', '04:56 PM', '03:20 AM', '09:25 PM',\n",
    "              '02:26 AM', '06:19 PM', '01:55 PM', '07:00 PM', '04:17 PM',\n",
    "              '04:14 AM', '10:19 AM', '03:25 PM', '05:50 AM', '04:21 AM']\n",
    "\n"
   ]
  },
  {
   "cell_type": "code",
   "execution_count": null,
   "id": "461592a4",
   "metadata": {},
   "outputs": [],
   "source": []
  }
 ],
 "metadata": {
  "language_info": {
   "name": "python",
   "pygments_lexer": "ipython3"
  }
 },
 "nbformat": 4,
 "nbformat_minor": 5
}
