{
 "cells": [
  {
   "cell_type": "markdown",
   "id": "aebc9dc0",
   "metadata": {},
   "source": [
    "# Python for everyone -- 06 Loops"
   ]
  },
  {
   "cell_type": "markdown",
   "id": "754b1d9c",
   "metadata": {},
   "source": [
    "## Repetative code"
   ]
  },
  {
   "cell_type": "markdown",
   "id": "d7cb53bf",
   "metadata": {},
   "source": [
    "Let's say have difficulty falling asleep and you want your computer to help you count sheep. You can do this easily:"
   ]
  },
  {
   "cell_type": "code",
   "execution_count": null,
   "id": "52c499a7",
   "metadata": {},
   "outputs": [],
   "source": [
    "print(1, \"sheep\")\n",
    "print(2, \"sheep\")\n",
    "print(3, \"sheep\")\n",
    "print(4, \"sheep\")\n",
    "print(5, \"sheep\")"
   ]
  },
  {
   "cell_type": "markdown",
   "id": "df42526b",
   "metadata": {},
   "source": [
    "This runs in a jiffy. But writing the code is cumbersome:\n",
    "* Lot of copy-pasting\n",
    "* Hard to change\n",
    "* Not very readable\n",
    "\n",
    "Also, what if you need to count 30 sheep? Or 3 million?\n",
    "\n",
    "The solution is to use a **loop** to repeatedly run code."
   ]
  },
  {
   "cell_type": "markdown",
   "id": "44e2247a",
   "metadata": {},
   "source": [
    "Today we will learn more about loops and working with them. Loops are an essential part of programming independent of the programming languaged used. So it is important that you practice!"
   ]
  },
  {
   "cell_type": "markdown",
   "id": "b2a2fc33",
   "metadata": {},
   "source": [
    "## The `while` loop"
   ]
  },
  {
   "cell_type": "markdown",
   "id": "46eaf6c4",
   "metadata": {},
   "source": [
    "The `while` loop is one of the two types of loops in Python (and also in most other programming languages). It allows you to repeat a bit of code until some condition is satisified.\n",
    "\n",
    "The code below uses the `while` loop to count five sheep:"
   ]
  },
  {
   "cell_type": "code",
   "execution_count": null,
   "id": "34e13fb7",
   "metadata": {},
   "outputs": [],
   "source": [
    "num = 1\n",
    "while num<=5:\n",
    "    print(num, \"sheep\")\n",
    "    num += 1"
   ]
  },
  {
   "cell_type": "markdown",
   "id": "294270b2",
   "metadata": {},
   "source": [
    "Anatomy of a `while`:\n",
    "* `while` keyword announces that we are starting a loop\n",
    "* `num<=5` condition that if `True`, we continue repeating the loop\n",
    "* The indented block of code is what we repeat\n",
    "```print(num)\n",
    "    print(num)\n",
    "    num += 1\n",
    "```\n",
    "\n",
    "**Important**: `num` is a helper variable that keeps track of the state of our computation during the iteration."
   ]
  },
  {
   "cell_type": "markdown",
   "id": "e6d584cb",
   "metadata": {},
   "source": [
    " A new thing that can go wrong:"
   ]
  },
  {
   "cell_type": "code",
   "execution_count": null,
   "id": "84959e3b",
   "metadata": {},
   "outputs": [],
   "source": [
    "num = 1\n",
    "while num<=10:\n",
    "    print(num)\n",
    "    num -= 1"
   ]
  },
  {
   "cell_type": "markdown",
   "id": "919a7450",
   "metadata": {},
   "source": [
    "What we encountered here is an infinite loop: we decreased `num` instead of increasing it, so `num<=10` never flipped. If you accidentally start an infinite loop, you need to interrupt Python.\n",
    "\n",
    "This also highlights an important usage of helper variables: it can signal the situation, when we want to stop the iteration. In this case, when we go beyond 10."
   ]
  },
  {
   "cell_type": "markdown",
   "id": "937dc517",
   "metadata": {},
   "source": [
    "Let's look at another example.\n",
    "\n",
    "We ask the user to give a new password, we require that the password should be at least 6 characters long. If it is less than 6, we ask again."
   ]
  },
  {
   "cell_type": "code",
   "execution_count": null,
   "id": "d735c961",
   "metadata": {},
   "outputs": [],
   "source": [
    "password= input(\"Enter new password (at least 6 characters): \")\n",
    "\n",
    "while len(password)<6:\n",
    "    password = input(\"Please, at least 6 characters!: \")\n",
    "\n",
    "print(\"Good password.\")"
   ]
  },
  {
   "cell_type": "markdown",
   "id": "7dd997cb",
   "metadata": {},
   "source": [
    "Here `password` changes at each iteration of the code, and these changes can signal the `while` loop to stop running."
   ]
  },
  {
   "cell_type": "markdown",
   "id": "0519e19f",
   "metadata": {},
   "source": [
    "#### 🔴 Exercise -- Space launch\n",
    "\n",
    "You are interning at a space program and you have to do the countdown before the lauch of a spacecraft. You are nervous, so you decide to write a Python program to do the work for you.\n",
    "\n",
    "Write code that counts down from 10 to 0 and then prints out \"Blast off!\".\n",
    "\n",
    "<br>\n",
    "<details><summary><u>Extra task.</u></summary>\n",
    "<p>\n",
    "    \n",
    "To make the countdown more realistic, you can import the `time` module and call `time.sleep(1)` for the program to wait 1 second between numbers.\n",
    "    \n",
    "</p>\n",
    "</details>"
   ]
  },
  {
   "cell_type": "code",
   "execution_count": null,
   "id": "adda3274",
   "metadata": {},
   "outputs": [],
   "source": []
  },
  {
   "cell_type": "markdown",
   "id": "d1aba31f",
   "metadata": {},
   "source": [
    "<details><summary><u>Solution.</u></summary>\n",
    "<p>\n",
    "    \n",
    "```python\n",
    "\n",
    "num = 10\n",
    "\n",
    "while num>=0:\n",
    "    print(num)\n",
    "    num -= 1\n",
    "    \n",
    "print(\"Blast off!\")\n",
    "    \n",
    "# with waiting\n",
    "import time\n",
    "num = 10\n",
    "\n",
    "while num>=0:\n",
    "    print(num)\n",
    "    num -= 1\n",
    "    time.sleep(1)\n",
    "    \n",
    "print(\"Blast off!\")\n",
    "```\n",
    "    \n",
    "</p>\n",
    "</details>"
   ]
  },
  {
   "cell_type": "markdown",
   "id": "97cca2eb",
   "metadata": {},
   "source": [
    "## Give me a `break`\n",
    "\n",
    "Sometimes it is useful to set the condition of the `while` loop to be `True`. This would mean that the loop runs forever, unless we include a `break` statement:"
   ]
  },
  {
   "cell_type": "code",
   "execution_count": null,
   "id": "bb6ae580",
   "metadata": {},
   "outputs": [],
   "source": [
    "print(\"Would you like an apple or a banana?\")\n",
    "\n",
    "while True:\n",
    "    choice = input()\n",
    "    if \"please\" in choice:\n",
    "        break\n",
    "    else:\n",
    "        print(\"What's the magic word?\")"
   ]
  },
  {
   "cell_type": "markdown",
   "id": "59fe0acf",
   "metadata": {},
   "source": [
    "Using a `break` statement can make the code readable, for example:"
   ]
  },
  {
   "cell_type": "code",
   "execution_count": null,
   "id": "23839f15",
   "metadata": {},
   "outputs": [],
   "source": [
    "correct_password = \"cat\"\n",
    "\n",
    "password = input(\"Enter password: \")\n",
    "\n",
    "while password!=correct_password:\n",
    "    print(\"Wrong password, try again.\")   \n",
    "    password = input(\"Enter password: \")\n",
    "\n",
    "print(\"Access granted!\")"
   ]
  },
  {
   "cell_type": "markdown",
   "id": "d2d71d43",
   "metadata": {},
   "source": [
    "Instead, you can write the following"
   ]
  },
  {
   "cell_type": "code",
   "execution_count": null,
   "id": "c17129d9",
   "metadata": {},
   "outputs": [],
   "source": [
    "correct_password = \"cat\"\n",
    "\n",
    "while True:  \n",
    "    password = input(\"Enter password: \")\n",
    "\n",
    "    if password == correct_password:\n",
    "        print(\"Access granted!\")\n",
    "        break  # exit the loop when the correct password is entered\n",
    "    \n",
    "    print(\"Wrong password, try again.\") # this part only prints out if password is wrong"
   ]
  },
  {
   "cell_type": "markdown",
   "id": "062f166f",
   "metadata": {},
   "source": [
    "In this version:\n",
    "* We only needed one `input()`\n",
    "* The code that runs when the password is correct is next to the condition."
   ]
  },
  {
   "cell_type": "markdown",
   "id": "3b76d86e",
   "metadata": {},
   "source": [
    "#### 🔴 Exercise -- Passwords\n",
    "\n",
    "Modify the above code so that it allows only three attempts to enter the password. Print out \"Too many attempts!\" if you go over three trials.\n",
    "\n",
    "\n",
    "<br>\n",
    "<details><summary><u>Hint.</u></summary>\n",
    "<p>\n",
    "    \n",
    "Introduce a helper variable (like we did in the very first example) to keep track of the number of attempts.\n",
    "    \n",
    "</p>\n",
    "</details>"
   ]
  },
  {
   "cell_type": "code",
   "execution_count": null,
   "id": "8a46b6d9",
   "metadata": {},
   "outputs": [],
   "source": []
  },
  {
   "cell_type": "markdown",
   "id": "a36dc4d4",
   "metadata": {},
   "source": [
    "<details><summary><u>Solution.</u></summary>\n",
    "<p>\n",
    "    \n",
    "```python\n",
    "correct_password = \"cat\"\n",
    "\n",
    "attempt = 0\n",
    "\n",
    "while True:  \n",
    "    password = input(\"Enter password: \")\n",
    "    attempt += 1\n",
    "    \n",
    "    if password == correct_password:\n",
    "        print(\"Access granted!\")\n",
    "        break  \n",
    "    \n",
    "    if attempt>=3:\n",
    "        print(\"Too many attempts! Access DENIED!\")\n",
    "        break\n",
    "    \n",
    "    print(\"Wrong password, try again.\") # this part only prints out if password is wrong\n",
    "```\n",
    "    \n",
    "</p>\n",
    "</details>"
   ]
  },
  {
   "cell_type": "markdown",
   "id": "8e6b82ed",
   "metadata": {},
   "source": [
    "## Iterating over a list\n",
    "\n",
    "Last week we learned that we can store multiple data in lists. For example, the list below contains 4 strings:"
   ]
  },
  {
   "cell_type": "code",
   "execution_count": null,
   "id": "3d0b49c5",
   "metadata": {},
   "outputs": [],
   "source": [
    "books = [\n",
    "    'Moby Dick (1851)',\n",
    "    'The world according to Garp (1978)',\n",
    "    'Networks: an Introduction (2018)',\n",
    "    'Portraits of Empires (2023)'\n",
    "]"
   ]
  },
  {
   "cell_type": "markdown",
   "id": "343e5443",
   "metadata": {},
   "source": [
    "Let's say you would like to print out the titles with out the year they were published:"
   ]
  },
  {
   "cell_type": "code",
   "execution_count": null,
   "id": "4e866762",
   "metadata": {},
   "outputs": [],
   "source": [
    "print(books[0][:-7])"
   ]
  },
  {
   "cell_type": "markdown",
   "id": "e8509997",
   "metadata": {},
   "source": [
    "How can we iterate over all elements of the list?"
   ]
  },
  {
   "cell_type": "code",
   "execution_count": null,
   "id": "25f1442a",
   "metadata": {},
   "outputs": [],
   "source": [
    "i = 0 \n",
    "while i<len(books):\n",
    "    print(books[i][:-7])\n",
    "    i += 1"
   ]
  },
  {
   "cell_type": "markdown",
   "id": "ed92386a",
   "metadata": {},
   "source": [
    "But there is another way that is simpler: the ``for`` loop."
   ]
  },
  {
   "cell_type": "code",
   "execution_count": null,
   "id": "e5cb0ae8",
   "metadata": {},
   "outputs": [],
   "source": [
    "for b in books:\n",
    "    print(b[:-7])"
   ]
  },
  {
   "cell_type": "markdown",
   "id": "5705862d",
   "metadata": {},
   "source": [
    "Anatomy of a `for` loop:\n",
    "* `for b in books:` is the header, defines what we are iterating over.\n",
    "* `books` is a list, more generally here you can put any iterable container object. I.e., any container that is capable of serving up its elements one-by-one.\n",
    "* `b` is a variable that holds the current element from our container.\n",
    "* `print(b[:-7])` is the body. An indented block of code that gets repeated for all elements of `books`"
   ]
  },
  {
   "cell_type": "markdown",
   "id": "b032da25",
   "metadata": {},
   "source": [
    "We can also collect the titles in a new list for later use:"
   ]
  },
  {
   "cell_type": "code",
   "execution_count": null,
   "id": "c0f7e82c",
   "metadata": {},
   "outputs": [],
   "source": [
    "titles = []\n",
    "for b in books:\n",
    "    titles.append(b[:-7])\n",
    "titles"
   ]
  },
  {
   "cell_type": "markdown",
   "id": "a78140eb",
   "metadata": {},
   "source": [
    "#### 🔴 Exercise -- Squaring\n",
    "\n",
    "The list below contains numbers. Create a new list that contains the square of those numbers."
   ]
  },
  {
   "cell_type": "code",
   "execution_count": null,
   "id": "e9798e3a",
   "metadata": {},
   "outputs": [],
   "source": [
    "numbers = [92, 58, 56, 14, 16, 56, 11, 81, 12, 74, 46, 28, 17, 89, 38, 59, 66, 88, 36, 35]\n"
   ]
  },
  {
   "cell_type": "markdown",
   "id": "b4cc1818",
   "metadata": {},
   "source": [
    "<details><summary><u>Solution.</u></summary>\n",
    "<p>\n",
    "    \n",
    "```python\n",
    "squared_numbers = []\n",
    "for n in numbers:\n",
    "    squared_numbers.append(n*n)\n",
    "squared_numbers\n",
    "```\n",
    "    \n",
    "</p>\n",
    "</details>"
   ]
  },
  {
   "cell_type": "markdown",
   "id": "6e804357",
   "metadata": {},
   "source": [
    "## Iterating over other collections\n",
    "\n",
    "The `for` loop can be used to iterate over other objects, not just lists. The object must be able to serve up elements to the `for` loop one-by-one.\n",
    "\n",
    "For example, you can iterate over a string:"
   ]
  },
  {
   "cell_type": "code",
   "execution_count": null,
   "id": "287d3a6e",
   "metadata": {},
   "outputs": [],
   "source": [
    "for char in \"Boo!\":\n",
    "    print(char)"
   ]
  },
  {
   "cell_type": "markdown",
   "id": "a6106239",
   "metadata": {},
   "source": [
    "Another very commonly used iterator is `range()`, which provides integer numbers:"
   ]
  },
  {
   "cell_type": "code",
   "execution_count": null,
   "id": "11087466",
   "metadata": {},
   "outputs": [],
   "source": [
    "for i in range(5):\n",
    "    print(i, \"sheep\")"
   ]
  },
  {
   "cell_type": "markdown",
   "id": "04cb7ac7",
   "metadata": {},
   "source": [
    "The counting does not have to start at 0:"
   ]
  },
  {
   "cell_type": "code",
   "execution_count": null,
   "id": "05602bf5",
   "metadata": {},
   "outputs": [],
   "source": [
    "for i in range(3,6):\n",
    "    print(i)"
   ]
  },
  {
   "cell_type": "markdown",
   "id": "6263573c",
   "metadata": {},
   "source": [
    "Similarly to slicing: 3 is the first number **included** in the counting, and 6 is the first number **excluded**.\n",
    "\n",
    "A common usage of `range` is to iterate over the valid indices of list:"
   ]
  },
  {
   "cell_type": "code",
   "execution_count": null,
   "id": "5baf4dc1",
   "metadata": {},
   "outputs": [],
   "source": [
    "for i in range( len(books) ):\n",
    "    print(f\"Item {i} in my list is \\\"{books[i]}\\\".\")"
   ]
  },
  {
   "cell_type": "markdown",
   "id": "7de2046a",
   "metadata": {},
   "source": [
    "You will see that there are many other iterable object types in Python (iterable means that you can stick it in a `for` loop). For example, next week you will learn about dictionaries and how to iterate over them. Or you will also learn how to open a csv file and iterate over its rows."
   ]
  },
  {
   "cell_type": "markdown",
   "id": "020e6964",
   "metadata": {},
   "source": [
    "## Example: Finding the maximum\n",
    "\n",
    "We already know how to find the maximum value in a list:"
   ]
  },
  {
   "cell_type": "code",
   "execution_count": null,
   "id": "201919df",
   "metadata": {},
   "outputs": [],
   "source": [
    "nums = [34, 42, 5, 8]\n",
    "max(nums)"
   ]
  },
  {
   "cell_type": "markdown",
   "id": "328682ba",
   "metadata": {},
   "source": [
    "For fun, let's write Python code that does the same task without using `max()`.\n",
    "\n",
    "Berfore we jump at the problem, let's make a plan! Imagine if I would give you a long list of numbers on a piece of paper. How would you find the maximum value by hand? Take a moment and try to break down what you would do into individual steps.\n",
    "\n",
    "<br>\n",
    "\n",
    "<details><summary><u>Here is what I would do:</u></summary>\n",
    "\n",
    "* Look at the first number and memorize it.\n",
    "* Look at the second number.\n",
    "* If the second is larger than the first, forget the first and memorize the second.\n",
    "* Repeat this for each number, always comparing to the largest value that I have seen so far.\n",
    "* Once I reach the end of the list, I can be certain that I have the largest number.\n",
    "\n",
    "</details>\n",
    "\n",
    "How does this translate to code?"
   ]
  },
  {
   "cell_type": "code",
   "execution_count": null,
   "id": "64f26182",
   "metadata": {},
   "outputs": [],
   "source": [
    "m = 0 # helper variable: I will use this to keep track of the maximum\n",
    "for num in nums: # check all numbers in the list\n",
    "    if m < num: # if number larger than the maximum so far\n",
    "        m=num   # update maximum\n",
    "m"
   ]
  },
  {
   "cell_type": "markdown",
   "id": "649e50e1",
   "metadata": {},
   "source": [
    "#### 🔴 Exercise -- Longest string\n",
    "\n",
    "Building on our maximum-finding algorithm, write code that finds length of the longest string in a list."
   ]
  },
  {
   "cell_type": "code",
   "execution_count": null,
   "id": "5482ed6e",
   "metadata": {},
   "outputs": [],
   "source": [
    "words = [\"Wilde\", \"mochas\", \"arcs\", \"simpers\", \"dynamically\", \"Chesterfield\", \n",
    "         \"swilling\", \"reaped\", \"jeering\", \"haler\", \"accessioned\", \"Rodger\"]\n"
   ]
  },
  {
   "cell_type": "markdown",
   "id": "09c047ad",
   "metadata": {},
   "source": [
    "<details><summary><u>Solution.</u></summary>\n",
    "<p>\n",
    "    \n",
    "```python\n",
    "m = 0\n",
    "for w in words:\n",
    "    if m < len(w):\n",
    "        m=len(w)\n",
    "m\n",
    "```\n",
    "    \n",
    "</p>\n",
    "</details>"
   ]
  },
  {
   "cell_type": "markdown",
   "id": "697d2a85",
   "metadata": {},
   "source": [
    "## Nested loops\n",
    "\n",
    "So far we looked a single loops. You can further complicate things by adding a loop inside a loop."
   ]
  },
  {
   "cell_type": "code",
   "execution_count": null,
   "id": "d242a7e1",
   "metadata": {},
   "outputs": [],
   "source": [
    "for i in range(3):\n",
    "    for j in range(3):\n",
    "        print(i,j)"
   ]
  },
  {
   "cell_type": "markdown",
   "id": "16add751",
   "metadata": {},
   "source": [
    "Why on Earth would you do this?\n",
    "\n",
    "How many \"e\"-s do the words contain in total?\n",
    "\n",
    "Again, before we jump at the problem, imagine that you have to do this by hand. Try to describe the steps that you have to do."
   ]
  },
  {
   "cell_type": "code",
   "execution_count": null,
   "id": "f481dd88",
   "metadata": {},
   "outputs": [],
   "source": [
    "words = [\"Wilde\", \"mochas\", \"arcs\", \"simpers\", \"dynamically\", \"Chesterfield\", \n",
    "         \"swilling\", \"reaped\", \"jeering\", \"haler\", \"accessioned\", \"Rodger\"]\n",
    "\n",
    "count = 0\n",
    "for w in words:\n",
    "    for c in w:\n",
    "        if c=='e':\n",
    "            count+=1\n",
    "count"
   ]
  },
  {
   "cell_type": "markdown",
   "id": "962f3b3f",
   "metadata": {},
   "source": [
    "## Example: sorting\n",
    "\n",
    "Let's write code that sorts a list numbers. This is a little bit more complicated than finding the maximum.\n",
    "\n",
    "How would you do the sorting by hand?\n",
    "\n",
    "<br>\n",
    "\n",
    "<details><summary><u>Here is what I would do:</u></summary>\n",
    "\n",
    "* Find the minimum value in the list.\n",
    "* Cross it out and write it down. This will be the first number in the sorted list.\n",
    "* Find the minimum in the remainder of the list. Add it to the sorted list and cross it out in the original.\n",
    "* Repeat this step until I run out of numbers.\n",
    "* When this happens, I am done.\n",
    "\n",
    "</details>\n"
   ]
  },
  {
   "cell_type": "code",
   "execution_count": null,
   "id": "90587f2b",
   "metadata": {},
   "outputs": [],
   "source": [
    "nums = [13, 2, 4, 8, 24, 5]\n",
    "\n",
    "sorted_nums = []\n",
    "while len(nums)>0:\n",
    "    \n",
    "    # find minimum\n",
    "    minimum = 100\n",
    "    for n in nums:\n",
    "        if minimum>n:\n",
    "            minimum = n\n",
    "    # end of for loop\n",
    "    # I have found the minimum\n",
    "    \n",
    "    # add to sorted list\n",
    "    sorted_nums.append(minimum)\n",
    "    \n",
    "    # remove from original\n",
    "    nums.remove(minimum)\n",
    "    \n",
    "sorted_nums"
   ]
  },
  {
   "cell_type": "markdown",
   "id": "4efa3ed3",
   "metadata": {},
   "source": [
    "## Debugging\n",
    "\n",
    "Here is a version of the above algorithm with some mistakes that I made on the way, when I was writing the example.\n",
    "\n",
    "Let's go through the process of debugging it together."
   ]
  },
  {
   "cell_type": "code",
   "execution_count": null,
   "id": "75b56389",
   "metadata": {},
   "outputs": [],
   "source": [
    "nums = [13, 2, 4, 8, 24, 5]\n",
    "\n",
    "sorted_nums = []\n",
    "while len(nums)>0:\n",
    "    \n",
    "    # find minimum\n",
    "    minimum = 100\n",
    "    for n in nums:\n",
    "        if minimum>n:\n",
    "            minimum = n\n",
    "    # end of for loop\n",
    "    # I have found the minimum\n",
    "    \n",
    "    # add to sorted list\n",
    "    sorted_nums.append(n)\n",
    "    \n",
    "    # remove from original\n",
    "    sorted_nums.remove(n)\n",
    "    \n",
    "sorted_nums"
   ]
  },
  {
   "cell_type": "markdown",
   "id": "d2b8d915",
   "metadata": {},
   "source": [
    "Useful thing to do:\n",
    "* Print out variables to understand what is happening inside the loop."
   ]
  },
  {
   "cell_type": "code",
   "execution_count": null,
   "id": "a3432599",
   "metadata": {},
   "outputs": [],
   "source": []
  },
  {
   "cell_type": "code",
   "execution_count": null,
   "id": "63594826",
   "metadata": {},
   "outputs": [],
   "source": []
  },
  {
   "cell_type": "code",
   "execution_count": null,
   "id": "3ef0e58a",
   "metadata": {},
   "outputs": [],
   "source": [
    "for i in range(8):\n",
    "    for j in range(8):\n",
    "        if (i+j)%2==0:\n",
    "            print('■ ', end='')\n",
    "        else:\n",
    "            print('□ ', end='')\n",
    "    print()"
   ]
  },
  {
   "cell_type": "code",
   "execution_count": null,
   "id": "f51e97b7",
   "metadata": {},
   "outputs": [],
   "source": []
  }
 ],
 "metadata": {
  "language_info": {
   "name": "python",
   "pygments_lexer": "ipython3"
  }
 },
 "nbformat": 4,
 "nbformat_minor": 5
}
